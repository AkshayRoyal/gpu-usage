{
 "cells": [
  {
   "cell_type": "code",
   "execution_count": 4,
   "metadata": {},
   "outputs": [],
   "source": [
    "#read the ./gpu_usage/gpu_log.csv file using pandas\n",
    "import pandas as pd\n",
    "\n"
   ]
  },
  {
   "cell_type": "code",
   "execution_count": 5,
   "metadata": {},
   "outputs": [
    {
     "data": {
      "text/html": [
       "<div>\n",
       "<style scoped>\n",
       "    .dataframe tbody tr th:only-of-type {\n",
       "        vertical-align: middle;\n",
       "    }\n",
       "\n",
       "    .dataframe tbody tr th {\n",
       "        vertical-align: top;\n",
       "    }\n",
       "\n",
       "    .dataframe thead th {\n",
       "        text-align: right;\n",
       "    }\n",
       "</style>\n",
       "<table border=\"1\" class=\"dataframe\">\n",
       "  <thead>\n",
       "    <tr style=\"text-align: right;\">\n",
       "      <th></th>\n",
       "      <th>timestamp</th>\n",
       "      <th>index</th>\n",
       "      <th>name</th>\n",
       "      <th>pci.bus_id</th>\n",
       "      <th>utilization.gpu [%]</th>\n",
       "      <th>utilization.memory [%]</th>\n",
       "      <th>memory.used [MiB]</th>\n",
       "      <th>memory.free [MiB]</th>\n",
       "      <th>memory.total [MiB]</th>\n",
       "    </tr>\n",
       "  </thead>\n",
       "  <tbody>\n",
       "    <tr>\n",
       "      <th>0</th>\n",
       "      <td>2023/06/22 18:53:36.635</td>\n",
       "      <td>0</td>\n",
       "      <td>NVIDIA GeForce RTX 2070</td>\n",
       "      <td>00000000:01:00.0</td>\n",
       "      <td>16 %</td>\n",
       "      <td>4 %</td>\n",
       "      <td>754 MiB</td>\n",
       "      <td>7228 MiB</td>\n",
       "      <td>8192 MiB</td>\n",
       "    </tr>\n",
       "    <tr>\n",
       "      <th>1</th>\n",
       "      <td>timestamp</td>\n",
       "      <td>index</td>\n",
       "      <td>name</td>\n",
       "      <td>pci.bus_id</td>\n",
       "      <td>utilization.gpu [%]</td>\n",
       "      <td>utilization.memory [%]</td>\n",
       "      <td>memory.used [MiB]</td>\n",
       "      <td>memory.free [MiB]</td>\n",
       "      <td>memory.total [MiB]</td>\n",
       "    </tr>\n",
       "    <tr>\n",
       "      <th>2</th>\n",
       "      <td>2023/06/22 18:53:51.554</td>\n",
       "      <td>0</td>\n",
       "      <td>NVIDIA GeForce RTX 2070</td>\n",
       "      <td>00000000:01:00.0</td>\n",
       "      <td>21 %</td>\n",
       "      <td>8 %</td>\n",
       "      <td>808 MiB</td>\n",
       "      <td>7173 MiB</td>\n",
       "      <td>8192 MiB</td>\n",
       "    </tr>\n",
       "    <tr>\n",
       "      <th>3</th>\n",
       "      <td>timestamp</td>\n",
       "      <td>index</td>\n",
       "      <td>name</td>\n",
       "      <td>pci.bus_id</td>\n",
       "      <td>utilization.gpu [%]</td>\n",
       "      <td>utilization.memory [%]</td>\n",
       "      <td>memory.used [MiB]</td>\n",
       "      <td>memory.free [MiB]</td>\n",
       "      <td>memory.total [MiB]</td>\n",
       "    </tr>\n",
       "    <tr>\n",
       "      <th>4</th>\n",
       "      <td>2023/06/22 18:53:52.362</td>\n",
       "      <td>0</td>\n",
       "      <td>NVIDIA GeForce RTX 2070</td>\n",
       "      <td>00000000:01:00.0</td>\n",
       "      <td>33 %</td>\n",
       "      <td>17 %</td>\n",
       "      <td>835 MiB</td>\n",
       "      <td>7147 MiB</td>\n",
       "      <td>8192 MiB</td>\n",
       "    </tr>\n",
       "    <tr>\n",
       "      <th>...</th>\n",
       "      <td>...</td>\n",
       "      <td>...</td>\n",
       "      <td>...</td>\n",
       "      <td>...</td>\n",
       "      <td>...</td>\n",
       "      <td>...</td>\n",
       "      <td>...</td>\n",
       "      <td>...</td>\n",
       "      <td>...</td>\n",
       "    </tr>\n",
       "    <tr>\n",
       "      <th>458</th>\n",
       "      <td>2023/06/22 19:00:42.969</td>\n",
       "      <td>0</td>\n",
       "      <td>NVIDIA GeForce RTX 2070</td>\n",
       "      <td>00000000:01:00.0</td>\n",
       "      <td>28 %</td>\n",
       "      <td>9 %</td>\n",
       "      <td>603 MiB</td>\n",
       "      <td>7378 MiB</td>\n",
       "      <td>8192 MiB</td>\n",
       "    </tr>\n",
       "    <tr>\n",
       "      <th>459</th>\n",
       "      <td>timestamp</td>\n",
       "      <td>index</td>\n",
       "      <td>name</td>\n",
       "      <td>pci.bus_id</td>\n",
       "      <td>utilization.gpu [%]</td>\n",
       "      <td>utilization.memory [%]</td>\n",
       "      <td>memory.used [MiB]</td>\n",
       "      <td>memory.free [MiB]</td>\n",
       "      <td>memory.total [MiB]</td>\n",
       "    </tr>\n",
       "    <tr>\n",
       "      <th>460</th>\n",
       "      <td>2023/06/22 19:00:43.998</td>\n",
       "      <td>0</td>\n",
       "      <td>NVIDIA GeForce RTX 2070</td>\n",
       "      <td>00000000:01:00.0</td>\n",
       "      <td>14 %</td>\n",
       "      <td>3 %</td>\n",
       "      <td>600 MiB</td>\n",
       "      <td>7382 MiB</td>\n",
       "      <td>8192 MiB</td>\n",
       "    </tr>\n",
       "    <tr>\n",
       "      <th>461</th>\n",
       "      <td>timestamp</td>\n",
       "      <td>index</td>\n",
       "      <td>name</td>\n",
       "      <td>pci.bus_id</td>\n",
       "      <td>utilization.gpu [%]</td>\n",
       "      <td>utilization.memory [%]</td>\n",
       "      <td>memory.used [MiB]</td>\n",
       "      <td>memory.free [MiB]</td>\n",
       "      <td>memory.total [MiB]</td>\n",
       "    </tr>\n",
       "    <tr>\n",
       "      <th>462</th>\n",
       "      <td>2023/06/22 19:00:45.023</td>\n",
       "      <td>0</td>\n",
       "      <td>NVIDIA GeForce RTX 2070</td>\n",
       "      <td>00000000:01:00.0</td>\n",
       "      <td>3 %</td>\n",
       "      <td>1 %</td>\n",
       "      <td>604 MiB</td>\n",
       "      <td>7378 MiB</td>\n",
       "      <td>8192 MiB</td>\n",
       "    </tr>\n",
       "  </tbody>\n",
       "</table>\n",
       "<p>463 rows × 9 columns</p>\n",
       "</div>"
      ],
      "text/plain": [
       "                   timestamp   index                      name   \n",
       "0    2023/06/22 18:53:36.635       0   NVIDIA GeForce RTX 2070  \\\n",
       "1                  timestamp   index                      name   \n",
       "2    2023/06/22 18:53:51.554       0   NVIDIA GeForce RTX 2070   \n",
       "3                  timestamp   index                      name   \n",
       "4    2023/06/22 18:53:52.362       0   NVIDIA GeForce RTX 2070   \n",
       "..                       ...     ...                       ...   \n",
       "458  2023/06/22 19:00:42.969       0   NVIDIA GeForce RTX 2070   \n",
       "459                timestamp   index                      name   \n",
       "460  2023/06/22 19:00:43.998       0   NVIDIA GeForce RTX 2070   \n",
       "461                timestamp   index                      name   \n",
       "462  2023/06/22 19:00:45.023       0   NVIDIA GeForce RTX 2070   \n",
       "\n",
       "            pci.bus_id   utilization.gpu [%]   utilization.memory [%]   \n",
       "0     00000000:01:00.0                  16 %                      4 %  \\\n",
       "1           pci.bus_id   utilization.gpu [%]   utilization.memory [%]   \n",
       "2     00000000:01:00.0                  21 %                      8 %   \n",
       "3           pci.bus_id   utilization.gpu [%]   utilization.memory [%]   \n",
       "4     00000000:01:00.0                  33 %                     17 %   \n",
       "..                 ...                   ...                      ...   \n",
       "458   00000000:01:00.0                  28 %                      9 %   \n",
       "459         pci.bus_id   utilization.gpu [%]   utilization.memory [%]   \n",
       "460   00000000:01:00.0                  14 %                      3 %   \n",
       "461         pci.bus_id   utilization.gpu [%]   utilization.memory [%]   \n",
       "462   00000000:01:00.0                   3 %                      1 %   \n",
       "\n",
       "      memory.used [MiB]   memory.free [MiB]   memory.total [MiB]  \n",
       "0               754 MiB            7228 MiB             8192 MiB  \n",
       "1     memory.used [MiB]   memory.free [MiB]   memory.total [MiB]  \n",
       "2               808 MiB            7173 MiB             8192 MiB  \n",
       "3     memory.used [MiB]   memory.free [MiB]   memory.total [MiB]  \n",
       "4               835 MiB            7147 MiB             8192 MiB  \n",
       "..                  ...                 ...                  ...  \n",
       "458             603 MiB            7378 MiB             8192 MiB  \n",
       "459   memory.used [MiB]   memory.free [MiB]   memory.total [MiB]  \n",
       "460             600 MiB            7382 MiB             8192 MiB  \n",
       "461   memory.used [MiB]   memory.free [MiB]   memory.total [MiB]  \n",
       "462             604 MiB            7378 MiB             8192 MiB  \n",
       "\n",
       "[463 rows x 9 columns]"
      ]
     },
     "execution_count": 5,
     "metadata": {},
     "output_type": "execute_result"
    }
   ],
   "source": [
    "df = pd.read_csv('gpu_usage.csv')\n",
    "df"
   ]
  },
  {
   "cell_type": "code",
   "execution_count": 6,
   "metadata": {},
   "outputs": [],
   "source": [
    "df=df[::2]"
   ]
  },
  {
   "cell_type": "code",
   "execution_count": 7,
   "metadata": {},
   "outputs": [],
   "source": [
    "#write the dataframe to a new csv file\n",
    "df.to_csv('gpu_usage1.csv', index=False)"
   ]
  },
  {
   "cell_type": "code",
   "execution_count": 8,
   "metadata": {},
   "outputs": [],
   "source": [
    "df1= pd.read_csv('gpu_usage1.csv')"
   ]
  },
  {
   "cell_type": "code",
   "execution_count": 9,
   "metadata": {},
   "outputs": [
    {
     "data": {
      "text/plain": [
       "timestamp                  object\n",
       " index                     object\n",
       " name                      object\n",
       " pci.bus_id                object\n",
       " utilization.gpu [%]       object\n",
       " utilization.memory [%]    object\n",
       " memory.used [MiB]         object\n",
       " memory.free [MiB]         object\n",
       " memory.total [MiB]        object\n",
       "dtype: object"
      ]
     },
     "execution_count": 9,
     "metadata": {},
     "output_type": "execute_result"
    }
   ],
   "source": [
    "df.dtypes"
   ]
  },
  {
   "cell_type": "code",
   "execution_count": 10,
   "metadata": {},
   "outputs": [
    {
     "data": {
      "text/plain": [
       "timestamp                  object\n",
       " index                      int64\n",
       " name                      object\n",
       " pci.bus_id                object\n",
       " utilization.gpu [%]       object\n",
       " utilization.memory [%]    object\n",
       " memory.used [MiB]         object\n",
       " memory.free [MiB]         object\n",
       " memory.total [MiB]        object\n",
       "dtype: object"
      ]
     },
     "execution_count": 10,
     "metadata": {},
     "output_type": "execute_result"
    }
   ],
   "source": [
    "df1.dtypes"
   ]
  },
  {
   "cell_type": "code",
   "execution_count": 11,
   "metadata": {},
   "outputs": [
    {
     "data": {
      "text/html": [
       "<div>\n",
       "<style scoped>\n",
       "    .dataframe tbody tr th:only-of-type {\n",
       "        vertical-align: middle;\n",
       "    }\n",
       "\n",
       "    .dataframe tbody tr th {\n",
       "        vertical-align: top;\n",
       "    }\n",
       "\n",
       "    .dataframe thead th {\n",
       "        text-align: right;\n",
       "    }\n",
       "</style>\n",
       "<table border=\"1\" class=\"dataframe\">\n",
       "  <thead>\n",
       "    <tr style=\"text-align: right;\">\n",
       "      <th></th>\n",
       "      <th>timestamp</th>\n",
       "      <th>index</th>\n",
       "      <th>name</th>\n",
       "      <th>pci.bus_id</th>\n",
       "      <th>utilization.gpu [%]</th>\n",
       "      <th>utilization.memory [%]</th>\n",
       "      <th>memory.used [MiB]</th>\n",
       "      <th>memory.free [MiB]</th>\n",
       "      <th>memory.total [MiB]</th>\n",
       "    </tr>\n",
       "  </thead>\n",
       "  <tbody>\n",
       "    <tr>\n",
       "      <th>0</th>\n",
       "      <td>2023/06/22 18:53:36.635</td>\n",
       "      <td>0</td>\n",
       "      <td>NVIDIA GeForce RTX 2070</td>\n",
       "      <td>00000000:01:00.0</td>\n",
       "      <td>16 %</td>\n",
       "      <td>4 %</td>\n",
       "      <td>754 MiB</td>\n",
       "      <td>7228 MiB</td>\n",
       "      <td>8192 MiB</td>\n",
       "    </tr>\n",
       "    <tr>\n",
       "      <th>1</th>\n",
       "      <td>2023/06/22 18:53:51.554</td>\n",
       "      <td>0</td>\n",
       "      <td>NVIDIA GeForce RTX 2070</td>\n",
       "      <td>00000000:01:00.0</td>\n",
       "      <td>21 %</td>\n",
       "      <td>8 %</td>\n",
       "      <td>808 MiB</td>\n",
       "      <td>7173 MiB</td>\n",
       "      <td>8192 MiB</td>\n",
       "    </tr>\n",
       "    <tr>\n",
       "      <th>2</th>\n",
       "      <td>2023/06/22 18:53:52.362</td>\n",
       "      <td>0</td>\n",
       "      <td>NVIDIA GeForce RTX 2070</td>\n",
       "      <td>00000000:01:00.0</td>\n",
       "      <td>33 %</td>\n",
       "      <td>17 %</td>\n",
       "      <td>835 MiB</td>\n",
       "      <td>7147 MiB</td>\n",
       "      <td>8192 MiB</td>\n",
       "    </tr>\n",
       "    <tr>\n",
       "      <th>3</th>\n",
       "      <td>2023/06/22 18:53:53.006</td>\n",
       "      <td>0</td>\n",
       "      <td>NVIDIA GeForce RTX 2070</td>\n",
       "      <td>00000000:01:00.0</td>\n",
       "      <td>33 %</td>\n",
       "      <td>17 %</td>\n",
       "      <td>834 MiB</td>\n",
       "      <td>7147 MiB</td>\n",
       "      <td>8192 MiB</td>\n",
       "    </tr>\n",
       "    <tr>\n",
       "      <th>4</th>\n",
       "      <td>2023/06/22 18:53:53.559</td>\n",
       "      <td>0</td>\n",
       "      <td>NVIDIA GeForce RTX 2070</td>\n",
       "      <td>00000000:01:00.0</td>\n",
       "      <td>21 %</td>\n",
       "      <td>7 %</td>\n",
       "      <td>834 MiB</td>\n",
       "      <td>7147 MiB</td>\n",
       "      <td>8192 MiB</td>\n",
       "    </tr>\n",
       "    <tr>\n",
       "      <th>...</th>\n",
       "      <td>...</td>\n",
       "      <td>...</td>\n",
       "      <td>...</td>\n",
       "      <td>...</td>\n",
       "      <td>...</td>\n",
       "      <td>...</td>\n",
       "      <td>...</td>\n",
       "      <td>...</td>\n",
       "      <td>...</td>\n",
       "    </tr>\n",
       "    <tr>\n",
       "      <th>227</th>\n",
       "      <td>2023/06/22 19:00:40.927</td>\n",
       "      <td>0</td>\n",
       "      <td>NVIDIA GeForce RTX 2070</td>\n",
       "      <td>00000000:01:00.0</td>\n",
       "      <td>6 %</td>\n",
       "      <td>6 %</td>\n",
       "      <td>581 MiB</td>\n",
       "      <td>7400 MiB</td>\n",
       "      <td>8192 MiB</td>\n",
       "    </tr>\n",
       "    <tr>\n",
       "      <th>228</th>\n",
       "      <td>2023/06/22 19:00:41.941</td>\n",
       "      <td>0</td>\n",
       "      <td>NVIDIA GeForce RTX 2070</td>\n",
       "      <td>00000000:01:00.0</td>\n",
       "      <td>20 %</td>\n",
       "      <td>11 %</td>\n",
       "      <td>584 MiB</td>\n",
       "      <td>7398 MiB</td>\n",
       "      <td>8192 MiB</td>\n",
       "    </tr>\n",
       "    <tr>\n",
       "      <th>229</th>\n",
       "      <td>2023/06/22 19:00:42.969</td>\n",
       "      <td>0</td>\n",
       "      <td>NVIDIA GeForce RTX 2070</td>\n",
       "      <td>00000000:01:00.0</td>\n",
       "      <td>28 %</td>\n",
       "      <td>9 %</td>\n",
       "      <td>603 MiB</td>\n",
       "      <td>7378 MiB</td>\n",
       "      <td>8192 MiB</td>\n",
       "    </tr>\n",
       "    <tr>\n",
       "      <th>230</th>\n",
       "      <td>2023/06/22 19:00:43.998</td>\n",
       "      <td>0</td>\n",
       "      <td>NVIDIA GeForce RTX 2070</td>\n",
       "      <td>00000000:01:00.0</td>\n",
       "      <td>14 %</td>\n",
       "      <td>3 %</td>\n",
       "      <td>600 MiB</td>\n",
       "      <td>7382 MiB</td>\n",
       "      <td>8192 MiB</td>\n",
       "    </tr>\n",
       "    <tr>\n",
       "      <th>231</th>\n",
       "      <td>2023/06/22 19:00:45.023</td>\n",
       "      <td>0</td>\n",
       "      <td>NVIDIA GeForce RTX 2070</td>\n",
       "      <td>00000000:01:00.0</td>\n",
       "      <td>3 %</td>\n",
       "      <td>1 %</td>\n",
       "      <td>604 MiB</td>\n",
       "      <td>7378 MiB</td>\n",
       "      <td>8192 MiB</td>\n",
       "    </tr>\n",
       "  </tbody>\n",
       "</table>\n",
       "<p>232 rows × 9 columns</p>\n",
       "</div>"
      ],
      "text/plain": [
       "                   timestamp   index                      name   \n",
       "0    2023/06/22 18:53:36.635       0   NVIDIA GeForce RTX 2070  \\\n",
       "1    2023/06/22 18:53:51.554       0   NVIDIA GeForce RTX 2070   \n",
       "2    2023/06/22 18:53:52.362       0   NVIDIA GeForce RTX 2070   \n",
       "3    2023/06/22 18:53:53.006       0   NVIDIA GeForce RTX 2070   \n",
       "4    2023/06/22 18:53:53.559       0   NVIDIA GeForce RTX 2070   \n",
       "..                       ...     ...                       ...   \n",
       "227  2023/06/22 19:00:40.927       0   NVIDIA GeForce RTX 2070   \n",
       "228  2023/06/22 19:00:41.941       0   NVIDIA GeForce RTX 2070   \n",
       "229  2023/06/22 19:00:42.969       0   NVIDIA GeForce RTX 2070   \n",
       "230  2023/06/22 19:00:43.998       0   NVIDIA GeForce RTX 2070   \n",
       "231  2023/06/22 19:00:45.023       0   NVIDIA GeForce RTX 2070   \n",
       "\n",
       "            pci.bus_id  utilization.gpu [%]  utilization.memory [%]   \n",
       "0     00000000:01:00.0                 16 %                     4 %  \\\n",
       "1     00000000:01:00.0                 21 %                     8 %   \n",
       "2     00000000:01:00.0                 33 %                    17 %   \n",
       "3     00000000:01:00.0                 33 %                    17 %   \n",
       "4     00000000:01:00.0                 21 %                     7 %   \n",
       "..                 ...                  ...                     ...   \n",
       "227   00000000:01:00.0                  6 %                     6 %   \n",
       "228   00000000:01:00.0                 20 %                    11 %   \n",
       "229   00000000:01:00.0                 28 %                     9 %   \n",
       "230   00000000:01:00.0                 14 %                     3 %   \n",
       "231   00000000:01:00.0                  3 %                     1 %   \n",
       "\n",
       "     memory.used [MiB]  memory.free [MiB]  memory.total [MiB]  \n",
       "0              754 MiB           7228 MiB            8192 MiB  \n",
       "1              808 MiB           7173 MiB            8192 MiB  \n",
       "2              835 MiB           7147 MiB            8192 MiB  \n",
       "3              834 MiB           7147 MiB            8192 MiB  \n",
       "4              834 MiB           7147 MiB            8192 MiB  \n",
       "..                 ...                ...                 ...  \n",
       "227            581 MiB           7400 MiB            8192 MiB  \n",
       "228            584 MiB           7398 MiB            8192 MiB  \n",
       "229            603 MiB           7378 MiB            8192 MiB  \n",
       "230            600 MiB           7382 MiB            8192 MiB  \n",
       "231            604 MiB           7378 MiB            8192 MiB  \n",
       "\n",
       "[232 rows x 9 columns]"
      ]
     },
     "execution_count": 11,
     "metadata": {},
     "output_type": "execute_result"
    }
   ],
   "source": [
    "df1"
   ]
  },
  {
   "cell_type": "code",
   "execution_count": 12,
   "metadata": {},
   "outputs": [],
   "source": [
    "#specify the dtype of the timestamp column to be datetime64\n",
    "df1['timestamp'] = pd.to_datetime(df1['timestamp'], format='mixed')\n",
    "#format the timestamp column to include date and time but not decimal seconds and change the dtype to datetime64\n",
    "df1['timestamp'] = df1['timestamp'].dt.strftime('%Y-%m-%d %H:%M:%S')"
   ]
  },
  {
   "cell_type": "code",
   "execution_count": 13,
   "metadata": {},
   "outputs": [
    {
     "data": {
      "text/plain": [
       "0      2023-06-22 18:53:36\n",
       "1      2023-06-22 18:53:51\n",
       "2      2023-06-22 18:53:52\n",
       "3      2023-06-22 18:53:53\n",
       "4      2023-06-22 18:53:53\n",
       "              ...         \n",
       "227    2023-06-22 19:00:40\n",
       "228    2023-06-22 19:00:41\n",
       "229    2023-06-22 19:00:42\n",
       "230    2023-06-22 19:00:43\n",
       "231    2023-06-22 19:00:45\n",
       "Name: timestamp, Length: 232, dtype: object"
      ]
     },
     "execution_count": 13,
     "metadata": {},
     "output_type": "execute_result"
    }
   ],
   "source": [
    "df1.timestamp"
   ]
  },
  {
   "cell_type": "code",
   "execution_count": 14,
   "metadata": {},
   "outputs": [],
   "source": [
    "#drop first 8 rows\n",
    "df1.drop(df1.index[:8], inplace=True)"
   ]
  },
  {
   "cell_type": "code",
   "execution_count": 15,
   "metadata": {},
   "outputs": [
    {
     "data": {
      "text/html": [
       "<div>\n",
       "<style scoped>\n",
       "    .dataframe tbody tr th:only-of-type {\n",
       "        vertical-align: middle;\n",
       "    }\n",
       "\n",
       "    .dataframe tbody tr th {\n",
       "        vertical-align: top;\n",
       "    }\n",
       "\n",
       "    .dataframe thead th {\n",
       "        text-align: right;\n",
       "    }\n",
       "</style>\n",
       "<table border=\"1\" class=\"dataframe\">\n",
       "  <thead>\n",
       "    <tr style=\"text-align: right;\">\n",
       "      <th></th>\n",
       "      <th>timestamp</th>\n",
       "      <th>index</th>\n",
       "      <th>name</th>\n",
       "      <th>pci.bus_id</th>\n",
       "      <th>utilization.gpu [%]</th>\n",
       "      <th>utilization.memory [%]</th>\n",
       "      <th>memory.used [MiB]</th>\n",
       "      <th>memory.free [MiB]</th>\n",
       "      <th>memory.total [MiB]</th>\n",
       "    </tr>\n",
       "  </thead>\n",
       "  <tbody>\n",
       "    <tr>\n",
       "      <th>8</th>\n",
       "      <td>2023-06-22 18:56:56</td>\n",
       "      <td>0</td>\n",
       "      <td>NVIDIA GeForce RTX 2070</td>\n",
       "      <td>00000000:01:00.0</td>\n",
       "      <td>22 %</td>\n",
       "      <td>6 %</td>\n",
       "      <td>841 MiB</td>\n",
       "      <td>7140 MiB</td>\n",
       "      <td>8192 MiB</td>\n",
       "    </tr>\n",
       "    <tr>\n",
       "      <th>9</th>\n",
       "      <td>2023-06-22 18:56:57</td>\n",
       "      <td>0</td>\n",
       "      <td>NVIDIA GeForce RTX 2070</td>\n",
       "      <td>00000000:01:00.0</td>\n",
       "      <td>24 %</td>\n",
       "      <td>13 %</td>\n",
       "      <td>869 MiB</td>\n",
       "      <td>7112 MiB</td>\n",
       "      <td>8192 MiB</td>\n",
       "    </tr>\n",
       "    <tr>\n",
       "      <th>10</th>\n",
       "      <td>2023-06-22 18:56:58</td>\n",
       "      <td>0</td>\n",
       "      <td>NVIDIA GeForce RTX 2070</td>\n",
       "      <td>00000000:01:00.0</td>\n",
       "      <td>29 %</td>\n",
       "      <td>15 %</td>\n",
       "      <td>865 MiB</td>\n",
       "      <td>7116 MiB</td>\n",
       "      <td>8192 MiB</td>\n",
       "    </tr>\n",
       "    <tr>\n",
       "      <th>11</th>\n",
       "      <td>2023-06-22 18:56:59</td>\n",
       "      <td>0</td>\n",
       "      <td>NVIDIA GeForce RTX 2070</td>\n",
       "      <td>00000000:01:00.0</td>\n",
       "      <td>28 %</td>\n",
       "      <td>15 %</td>\n",
       "      <td>865 MiB</td>\n",
       "      <td>7116 MiB</td>\n",
       "      <td>8192 MiB</td>\n",
       "    </tr>\n",
       "    <tr>\n",
       "      <th>12</th>\n",
       "      <td>2023-06-22 18:57:00</td>\n",
       "      <td>0</td>\n",
       "      <td>NVIDIA GeForce RTX 2070</td>\n",
       "      <td>00000000:01:00.0</td>\n",
       "      <td>20 %</td>\n",
       "      <td>10 %</td>\n",
       "      <td>865 MiB</td>\n",
       "      <td>7116 MiB</td>\n",
       "      <td>8192 MiB</td>\n",
       "    </tr>\n",
       "    <tr>\n",
       "      <th>...</th>\n",
       "      <td>...</td>\n",
       "      <td>...</td>\n",
       "      <td>...</td>\n",
       "      <td>...</td>\n",
       "      <td>...</td>\n",
       "      <td>...</td>\n",
       "      <td>...</td>\n",
       "      <td>...</td>\n",
       "      <td>...</td>\n",
       "    </tr>\n",
       "    <tr>\n",
       "      <th>227</th>\n",
       "      <td>2023-06-22 19:00:40</td>\n",
       "      <td>0</td>\n",
       "      <td>NVIDIA GeForce RTX 2070</td>\n",
       "      <td>00000000:01:00.0</td>\n",
       "      <td>6 %</td>\n",
       "      <td>6 %</td>\n",
       "      <td>581 MiB</td>\n",
       "      <td>7400 MiB</td>\n",
       "      <td>8192 MiB</td>\n",
       "    </tr>\n",
       "    <tr>\n",
       "      <th>228</th>\n",
       "      <td>2023-06-22 19:00:41</td>\n",
       "      <td>0</td>\n",
       "      <td>NVIDIA GeForce RTX 2070</td>\n",
       "      <td>00000000:01:00.0</td>\n",
       "      <td>20 %</td>\n",
       "      <td>11 %</td>\n",
       "      <td>584 MiB</td>\n",
       "      <td>7398 MiB</td>\n",
       "      <td>8192 MiB</td>\n",
       "    </tr>\n",
       "    <tr>\n",
       "      <th>229</th>\n",
       "      <td>2023-06-22 19:00:42</td>\n",
       "      <td>0</td>\n",
       "      <td>NVIDIA GeForce RTX 2070</td>\n",
       "      <td>00000000:01:00.0</td>\n",
       "      <td>28 %</td>\n",
       "      <td>9 %</td>\n",
       "      <td>603 MiB</td>\n",
       "      <td>7378 MiB</td>\n",
       "      <td>8192 MiB</td>\n",
       "    </tr>\n",
       "    <tr>\n",
       "      <th>230</th>\n",
       "      <td>2023-06-22 19:00:43</td>\n",
       "      <td>0</td>\n",
       "      <td>NVIDIA GeForce RTX 2070</td>\n",
       "      <td>00000000:01:00.0</td>\n",
       "      <td>14 %</td>\n",
       "      <td>3 %</td>\n",
       "      <td>600 MiB</td>\n",
       "      <td>7382 MiB</td>\n",
       "      <td>8192 MiB</td>\n",
       "    </tr>\n",
       "    <tr>\n",
       "      <th>231</th>\n",
       "      <td>2023-06-22 19:00:45</td>\n",
       "      <td>0</td>\n",
       "      <td>NVIDIA GeForce RTX 2070</td>\n",
       "      <td>00000000:01:00.0</td>\n",
       "      <td>3 %</td>\n",
       "      <td>1 %</td>\n",
       "      <td>604 MiB</td>\n",
       "      <td>7378 MiB</td>\n",
       "      <td>8192 MiB</td>\n",
       "    </tr>\n",
       "  </tbody>\n",
       "</table>\n",
       "<p>224 rows × 9 columns</p>\n",
       "</div>"
      ],
      "text/plain": [
       "               timestamp   index                      name         pci.bus_id   \n",
       "8    2023-06-22 18:56:56       0   NVIDIA GeForce RTX 2070   00000000:01:00.0  \\\n",
       "9    2023-06-22 18:56:57       0   NVIDIA GeForce RTX 2070   00000000:01:00.0   \n",
       "10   2023-06-22 18:56:58       0   NVIDIA GeForce RTX 2070   00000000:01:00.0   \n",
       "11   2023-06-22 18:56:59       0   NVIDIA GeForce RTX 2070   00000000:01:00.0   \n",
       "12   2023-06-22 18:57:00       0   NVIDIA GeForce RTX 2070   00000000:01:00.0   \n",
       "..                   ...     ...                       ...                ...   \n",
       "227  2023-06-22 19:00:40       0   NVIDIA GeForce RTX 2070   00000000:01:00.0   \n",
       "228  2023-06-22 19:00:41       0   NVIDIA GeForce RTX 2070   00000000:01:00.0   \n",
       "229  2023-06-22 19:00:42       0   NVIDIA GeForce RTX 2070   00000000:01:00.0   \n",
       "230  2023-06-22 19:00:43       0   NVIDIA GeForce RTX 2070   00000000:01:00.0   \n",
       "231  2023-06-22 19:00:45       0   NVIDIA GeForce RTX 2070   00000000:01:00.0   \n",
       "\n",
       "     utilization.gpu [%]  utilization.memory [%]  memory.used [MiB]   \n",
       "8                   22 %                     6 %            841 MiB  \\\n",
       "9                   24 %                    13 %            869 MiB   \n",
       "10                  29 %                    15 %            865 MiB   \n",
       "11                  28 %                    15 %            865 MiB   \n",
       "12                  20 %                    10 %            865 MiB   \n",
       "..                   ...                     ...                ...   \n",
       "227                  6 %                     6 %            581 MiB   \n",
       "228                 20 %                    11 %            584 MiB   \n",
       "229                 28 %                     9 %            603 MiB   \n",
       "230                 14 %                     3 %            600 MiB   \n",
       "231                  3 %                     1 %            604 MiB   \n",
       "\n",
       "     memory.free [MiB]  memory.total [MiB]  \n",
       "8             7140 MiB            8192 MiB  \n",
       "9             7112 MiB            8192 MiB  \n",
       "10            7116 MiB            8192 MiB  \n",
       "11            7116 MiB            8192 MiB  \n",
       "12            7116 MiB            8192 MiB  \n",
       "..                 ...                 ...  \n",
       "227           7400 MiB            8192 MiB  \n",
       "228           7398 MiB            8192 MiB  \n",
       "229           7378 MiB            8192 MiB  \n",
       "230           7382 MiB            8192 MiB  \n",
       "231           7378 MiB            8192 MiB  \n",
       "\n",
       "[224 rows x 9 columns]"
      ]
     },
     "execution_count": 15,
     "metadata": {},
     "output_type": "execute_result"
    }
   ],
   "source": [
    "df1"
   ]
  },
  {
   "cell_type": "code",
   "execution_count": 16,
   "metadata": {},
   "outputs": [
    {
     "data": {
      "text/plain": [
       "Index(['timestamp', ' index', ' name', ' pci.bus_id', ' utilization.gpu [%]',\n",
       "       ' utilization.memory [%]', ' memory.used [MiB]', ' memory.free [MiB]',\n",
       "       ' memory.total [MiB]'],\n",
       "      dtype='object')"
      ]
     },
     "execution_count": 16,
     "metadata": {},
     "output_type": "execute_result"
    }
   ],
   "source": [
    "df1.keys()"
   ]
  },
  {
   "cell_type": "code",
   "execution_count": 17,
   "metadata": {},
   "outputs": [],
   "source": [
    "#rename the header columns by removing special characters and spaces\n",
    "df1.columns = ['timestamp', 'index_gpu','name', 'pci_bus_id','gpu_utilization', 'gpu_memory_utilization', 'gpu_memory_used', 'gpu_memory_free', 'gpu_memory_total']"
   ]
  },
  {
   "cell_type": "code",
   "execution_count": 18,
   "metadata": {},
   "outputs": [
    {
     "data": {
      "text/html": [
       "<div>\n",
       "<style scoped>\n",
       "    .dataframe tbody tr th:only-of-type {\n",
       "        vertical-align: middle;\n",
       "    }\n",
       "\n",
       "    .dataframe tbody tr th {\n",
       "        vertical-align: top;\n",
       "    }\n",
       "\n",
       "    .dataframe thead th {\n",
       "        text-align: right;\n",
       "    }\n",
       "</style>\n",
       "<table border=\"1\" class=\"dataframe\">\n",
       "  <thead>\n",
       "    <tr style=\"text-align: right;\">\n",
       "      <th></th>\n",
       "      <th>timestamp</th>\n",
       "      <th>index_gpu</th>\n",
       "      <th>name</th>\n",
       "      <th>pci_bus_id</th>\n",
       "      <th>gpu_utilization</th>\n",
       "      <th>gpu_memory_utilization</th>\n",
       "      <th>gpu_memory_used</th>\n",
       "      <th>gpu_memory_free</th>\n",
       "      <th>gpu_memory_total</th>\n",
       "    </tr>\n",
       "  </thead>\n",
       "  <tbody>\n",
       "    <tr>\n",
       "      <th>8</th>\n",
       "      <td>2023-06-22 18:56:56</td>\n",
       "      <td>0</td>\n",
       "      <td>NVIDIA GeForce RTX 2070</td>\n",
       "      <td>00000000:01:00.0</td>\n",
       "      <td>22 %</td>\n",
       "      <td>6 %</td>\n",
       "      <td>841 MiB</td>\n",
       "      <td>7140 MiB</td>\n",
       "      <td>8192 MiB</td>\n",
       "    </tr>\n",
       "    <tr>\n",
       "      <th>9</th>\n",
       "      <td>2023-06-22 18:56:57</td>\n",
       "      <td>0</td>\n",
       "      <td>NVIDIA GeForce RTX 2070</td>\n",
       "      <td>00000000:01:00.0</td>\n",
       "      <td>24 %</td>\n",
       "      <td>13 %</td>\n",
       "      <td>869 MiB</td>\n",
       "      <td>7112 MiB</td>\n",
       "      <td>8192 MiB</td>\n",
       "    </tr>\n",
       "    <tr>\n",
       "      <th>10</th>\n",
       "      <td>2023-06-22 18:56:58</td>\n",
       "      <td>0</td>\n",
       "      <td>NVIDIA GeForce RTX 2070</td>\n",
       "      <td>00000000:01:00.0</td>\n",
       "      <td>29 %</td>\n",
       "      <td>15 %</td>\n",
       "      <td>865 MiB</td>\n",
       "      <td>7116 MiB</td>\n",
       "      <td>8192 MiB</td>\n",
       "    </tr>\n",
       "    <tr>\n",
       "      <th>11</th>\n",
       "      <td>2023-06-22 18:56:59</td>\n",
       "      <td>0</td>\n",
       "      <td>NVIDIA GeForce RTX 2070</td>\n",
       "      <td>00000000:01:00.0</td>\n",
       "      <td>28 %</td>\n",
       "      <td>15 %</td>\n",
       "      <td>865 MiB</td>\n",
       "      <td>7116 MiB</td>\n",
       "      <td>8192 MiB</td>\n",
       "    </tr>\n",
       "    <tr>\n",
       "      <th>12</th>\n",
       "      <td>2023-06-22 18:57:00</td>\n",
       "      <td>0</td>\n",
       "      <td>NVIDIA GeForce RTX 2070</td>\n",
       "      <td>00000000:01:00.0</td>\n",
       "      <td>20 %</td>\n",
       "      <td>10 %</td>\n",
       "      <td>865 MiB</td>\n",
       "      <td>7116 MiB</td>\n",
       "      <td>8192 MiB</td>\n",
       "    </tr>\n",
       "    <tr>\n",
       "      <th>...</th>\n",
       "      <td>...</td>\n",
       "      <td>...</td>\n",
       "      <td>...</td>\n",
       "      <td>...</td>\n",
       "      <td>...</td>\n",
       "      <td>...</td>\n",
       "      <td>...</td>\n",
       "      <td>...</td>\n",
       "      <td>...</td>\n",
       "    </tr>\n",
       "    <tr>\n",
       "      <th>227</th>\n",
       "      <td>2023-06-22 19:00:40</td>\n",
       "      <td>0</td>\n",
       "      <td>NVIDIA GeForce RTX 2070</td>\n",
       "      <td>00000000:01:00.0</td>\n",
       "      <td>6 %</td>\n",
       "      <td>6 %</td>\n",
       "      <td>581 MiB</td>\n",
       "      <td>7400 MiB</td>\n",
       "      <td>8192 MiB</td>\n",
       "    </tr>\n",
       "    <tr>\n",
       "      <th>228</th>\n",
       "      <td>2023-06-22 19:00:41</td>\n",
       "      <td>0</td>\n",
       "      <td>NVIDIA GeForce RTX 2070</td>\n",
       "      <td>00000000:01:00.0</td>\n",
       "      <td>20 %</td>\n",
       "      <td>11 %</td>\n",
       "      <td>584 MiB</td>\n",
       "      <td>7398 MiB</td>\n",
       "      <td>8192 MiB</td>\n",
       "    </tr>\n",
       "    <tr>\n",
       "      <th>229</th>\n",
       "      <td>2023-06-22 19:00:42</td>\n",
       "      <td>0</td>\n",
       "      <td>NVIDIA GeForce RTX 2070</td>\n",
       "      <td>00000000:01:00.0</td>\n",
       "      <td>28 %</td>\n",
       "      <td>9 %</td>\n",
       "      <td>603 MiB</td>\n",
       "      <td>7378 MiB</td>\n",
       "      <td>8192 MiB</td>\n",
       "    </tr>\n",
       "    <tr>\n",
       "      <th>230</th>\n",
       "      <td>2023-06-22 19:00:43</td>\n",
       "      <td>0</td>\n",
       "      <td>NVIDIA GeForce RTX 2070</td>\n",
       "      <td>00000000:01:00.0</td>\n",
       "      <td>14 %</td>\n",
       "      <td>3 %</td>\n",
       "      <td>600 MiB</td>\n",
       "      <td>7382 MiB</td>\n",
       "      <td>8192 MiB</td>\n",
       "    </tr>\n",
       "    <tr>\n",
       "      <th>231</th>\n",
       "      <td>2023-06-22 19:00:45</td>\n",
       "      <td>0</td>\n",
       "      <td>NVIDIA GeForce RTX 2070</td>\n",
       "      <td>00000000:01:00.0</td>\n",
       "      <td>3 %</td>\n",
       "      <td>1 %</td>\n",
       "      <td>604 MiB</td>\n",
       "      <td>7378 MiB</td>\n",
       "      <td>8192 MiB</td>\n",
       "    </tr>\n",
       "  </tbody>\n",
       "</table>\n",
       "<p>224 rows × 9 columns</p>\n",
       "</div>"
      ],
      "text/plain": [
       "               timestamp  index_gpu                      name   \n",
       "8    2023-06-22 18:56:56          0   NVIDIA GeForce RTX 2070  \\\n",
       "9    2023-06-22 18:56:57          0   NVIDIA GeForce RTX 2070   \n",
       "10   2023-06-22 18:56:58          0   NVIDIA GeForce RTX 2070   \n",
       "11   2023-06-22 18:56:59          0   NVIDIA GeForce RTX 2070   \n",
       "12   2023-06-22 18:57:00          0   NVIDIA GeForce RTX 2070   \n",
       "..                   ...        ...                       ...   \n",
       "227  2023-06-22 19:00:40          0   NVIDIA GeForce RTX 2070   \n",
       "228  2023-06-22 19:00:41          0   NVIDIA GeForce RTX 2070   \n",
       "229  2023-06-22 19:00:42          0   NVIDIA GeForce RTX 2070   \n",
       "230  2023-06-22 19:00:43          0   NVIDIA GeForce RTX 2070   \n",
       "231  2023-06-22 19:00:45          0   NVIDIA GeForce RTX 2070   \n",
       "\n",
       "            pci_bus_id gpu_utilization gpu_memory_utilization gpu_memory_used   \n",
       "8     00000000:01:00.0            22 %                    6 %         841 MiB  \\\n",
       "9     00000000:01:00.0            24 %                   13 %         869 MiB   \n",
       "10    00000000:01:00.0            29 %                   15 %         865 MiB   \n",
       "11    00000000:01:00.0            28 %                   15 %         865 MiB   \n",
       "12    00000000:01:00.0            20 %                   10 %         865 MiB   \n",
       "..                 ...             ...                    ...             ...   \n",
       "227   00000000:01:00.0             6 %                    6 %         581 MiB   \n",
       "228   00000000:01:00.0            20 %                   11 %         584 MiB   \n",
       "229   00000000:01:00.0            28 %                    9 %         603 MiB   \n",
       "230   00000000:01:00.0            14 %                    3 %         600 MiB   \n",
       "231   00000000:01:00.0             3 %                    1 %         604 MiB   \n",
       "\n",
       "    gpu_memory_free gpu_memory_total  \n",
       "8          7140 MiB         8192 MiB  \n",
       "9          7112 MiB         8192 MiB  \n",
       "10         7116 MiB         8192 MiB  \n",
       "11         7116 MiB         8192 MiB  \n",
       "12         7116 MiB         8192 MiB  \n",
       "..              ...              ...  \n",
       "227        7400 MiB         8192 MiB  \n",
       "228        7398 MiB         8192 MiB  \n",
       "229        7378 MiB         8192 MiB  \n",
       "230        7382 MiB         8192 MiB  \n",
       "231        7378 MiB         8192 MiB  \n",
       "\n",
       "[224 rows x 9 columns]"
      ]
     },
     "execution_count": 18,
     "metadata": {},
     "output_type": "execute_result"
    }
   ],
   "source": [
    "df1"
   ]
  },
  {
   "cell_type": "code",
   "execution_count": 19,
   "metadata": {},
   "outputs": [],
   "source": [
    "#remove % sign from the gpu_utilization column and convert the column to int64\n",
    "df1['gpu_utilization'] = df1['gpu_utilization'].str.replace('%', '').astype('int64')\n",
    "#do the same for gpu_memory_utilization\n",
    "df1['gpu_memory_utilization'] = df1['gpu_memory_utilization'].str.replace('%', '').astype('int64')\n"
   ]
  },
  {
   "cell_type": "code",
   "execution_count": 20,
   "metadata": {},
   "outputs": [],
   "source": [
    "#remove MiB from the gpu_memory_used column and convert the column to int64\n",
    "df1['gpu_memory_used'] = df1['gpu_memory_used'].str.replace('MiB', '').astype('int64')\n",
    "#do the same for gpu_memory_free\n",
    "df1['gpu_memory_free'] = df1['gpu_memory_free'].str.replace('MiB', '').astype('int64')\n",
    "#do the same for gpu_memory_total\n",
    "df1['gpu_memory_total'] = df1['gpu_memory_total'].str.replace('MiB', '').astype('int64')"
   ]
  },
  {
   "cell_type": "code",
   "execution_count": 21,
   "metadata": {},
   "outputs": [
    {
     "data": {
      "text/html": [
       "<div>\n",
       "<style scoped>\n",
       "    .dataframe tbody tr th:only-of-type {\n",
       "        vertical-align: middle;\n",
       "    }\n",
       "\n",
       "    .dataframe tbody tr th {\n",
       "        vertical-align: top;\n",
       "    }\n",
       "\n",
       "    .dataframe thead th {\n",
       "        text-align: right;\n",
       "    }\n",
       "</style>\n",
       "<table border=\"1\" class=\"dataframe\">\n",
       "  <thead>\n",
       "    <tr style=\"text-align: right;\">\n",
       "      <th></th>\n",
       "      <th>timestamp</th>\n",
       "      <th>index_gpu</th>\n",
       "      <th>name</th>\n",
       "      <th>pci_bus_id</th>\n",
       "      <th>gpu_utilization</th>\n",
       "      <th>gpu_memory_utilization</th>\n",
       "      <th>gpu_memory_used</th>\n",
       "      <th>gpu_memory_free</th>\n",
       "      <th>gpu_memory_total</th>\n",
       "    </tr>\n",
       "  </thead>\n",
       "  <tbody>\n",
       "    <tr>\n",
       "      <th>8</th>\n",
       "      <td>2023-06-22 18:56:56</td>\n",
       "      <td>0</td>\n",
       "      <td>NVIDIA GeForce RTX 2070</td>\n",
       "      <td>00000000:01:00.0</td>\n",
       "      <td>22</td>\n",
       "      <td>6</td>\n",
       "      <td>841</td>\n",
       "      <td>7140</td>\n",
       "      <td>8192</td>\n",
       "    </tr>\n",
       "    <tr>\n",
       "      <th>9</th>\n",
       "      <td>2023-06-22 18:56:57</td>\n",
       "      <td>0</td>\n",
       "      <td>NVIDIA GeForce RTX 2070</td>\n",
       "      <td>00000000:01:00.0</td>\n",
       "      <td>24</td>\n",
       "      <td>13</td>\n",
       "      <td>869</td>\n",
       "      <td>7112</td>\n",
       "      <td>8192</td>\n",
       "    </tr>\n",
       "    <tr>\n",
       "      <th>10</th>\n",
       "      <td>2023-06-22 18:56:58</td>\n",
       "      <td>0</td>\n",
       "      <td>NVIDIA GeForce RTX 2070</td>\n",
       "      <td>00000000:01:00.0</td>\n",
       "      <td>29</td>\n",
       "      <td>15</td>\n",
       "      <td>865</td>\n",
       "      <td>7116</td>\n",
       "      <td>8192</td>\n",
       "    </tr>\n",
       "    <tr>\n",
       "      <th>11</th>\n",
       "      <td>2023-06-22 18:56:59</td>\n",
       "      <td>0</td>\n",
       "      <td>NVIDIA GeForce RTX 2070</td>\n",
       "      <td>00000000:01:00.0</td>\n",
       "      <td>28</td>\n",
       "      <td>15</td>\n",
       "      <td>865</td>\n",
       "      <td>7116</td>\n",
       "      <td>8192</td>\n",
       "    </tr>\n",
       "    <tr>\n",
       "      <th>12</th>\n",
       "      <td>2023-06-22 18:57:00</td>\n",
       "      <td>0</td>\n",
       "      <td>NVIDIA GeForce RTX 2070</td>\n",
       "      <td>00000000:01:00.0</td>\n",
       "      <td>20</td>\n",
       "      <td>10</td>\n",
       "      <td>865</td>\n",
       "      <td>7116</td>\n",
       "      <td>8192</td>\n",
       "    </tr>\n",
       "    <tr>\n",
       "      <th>...</th>\n",
       "      <td>...</td>\n",
       "      <td>...</td>\n",
       "      <td>...</td>\n",
       "      <td>...</td>\n",
       "      <td>...</td>\n",
       "      <td>...</td>\n",
       "      <td>...</td>\n",
       "      <td>...</td>\n",
       "      <td>...</td>\n",
       "    </tr>\n",
       "    <tr>\n",
       "      <th>227</th>\n",
       "      <td>2023-06-22 19:00:40</td>\n",
       "      <td>0</td>\n",
       "      <td>NVIDIA GeForce RTX 2070</td>\n",
       "      <td>00000000:01:00.0</td>\n",
       "      <td>6</td>\n",
       "      <td>6</td>\n",
       "      <td>581</td>\n",
       "      <td>7400</td>\n",
       "      <td>8192</td>\n",
       "    </tr>\n",
       "    <tr>\n",
       "      <th>228</th>\n",
       "      <td>2023-06-22 19:00:41</td>\n",
       "      <td>0</td>\n",
       "      <td>NVIDIA GeForce RTX 2070</td>\n",
       "      <td>00000000:01:00.0</td>\n",
       "      <td>20</td>\n",
       "      <td>11</td>\n",
       "      <td>584</td>\n",
       "      <td>7398</td>\n",
       "      <td>8192</td>\n",
       "    </tr>\n",
       "    <tr>\n",
       "      <th>229</th>\n",
       "      <td>2023-06-22 19:00:42</td>\n",
       "      <td>0</td>\n",
       "      <td>NVIDIA GeForce RTX 2070</td>\n",
       "      <td>00000000:01:00.0</td>\n",
       "      <td>28</td>\n",
       "      <td>9</td>\n",
       "      <td>603</td>\n",
       "      <td>7378</td>\n",
       "      <td>8192</td>\n",
       "    </tr>\n",
       "    <tr>\n",
       "      <th>230</th>\n",
       "      <td>2023-06-22 19:00:43</td>\n",
       "      <td>0</td>\n",
       "      <td>NVIDIA GeForce RTX 2070</td>\n",
       "      <td>00000000:01:00.0</td>\n",
       "      <td>14</td>\n",
       "      <td>3</td>\n",
       "      <td>600</td>\n",
       "      <td>7382</td>\n",
       "      <td>8192</td>\n",
       "    </tr>\n",
       "    <tr>\n",
       "      <th>231</th>\n",
       "      <td>2023-06-22 19:00:45</td>\n",
       "      <td>0</td>\n",
       "      <td>NVIDIA GeForce RTX 2070</td>\n",
       "      <td>00000000:01:00.0</td>\n",
       "      <td>3</td>\n",
       "      <td>1</td>\n",
       "      <td>604</td>\n",
       "      <td>7378</td>\n",
       "      <td>8192</td>\n",
       "    </tr>\n",
       "  </tbody>\n",
       "</table>\n",
       "<p>224 rows × 9 columns</p>\n",
       "</div>"
      ],
      "text/plain": [
       "               timestamp  index_gpu                      name   \n",
       "8    2023-06-22 18:56:56          0   NVIDIA GeForce RTX 2070  \\\n",
       "9    2023-06-22 18:56:57          0   NVIDIA GeForce RTX 2070   \n",
       "10   2023-06-22 18:56:58          0   NVIDIA GeForce RTX 2070   \n",
       "11   2023-06-22 18:56:59          0   NVIDIA GeForce RTX 2070   \n",
       "12   2023-06-22 18:57:00          0   NVIDIA GeForce RTX 2070   \n",
       "..                   ...        ...                       ...   \n",
       "227  2023-06-22 19:00:40          0   NVIDIA GeForce RTX 2070   \n",
       "228  2023-06-22 19:00:41          0   NVIDIA GeForce RTX 2070   \n",
       "229  2023-06-22 19:00:42          0   NVIDIA GeForce RTX 2070   \n",
       "230  2023-06-22 19:00:43          0   NVIDIA GeForce RTX 2070   \n",
       "231  2023-06-22 19:00:45          0   NVIDIA GeForce RTX 2070   \n",
       "\n",
       "            pci_bus_id  gpu_utilization  gpu_memory_utilization   \n",
       "8     00000000:01:00.0               22                       6  \\\n",
       "9     00000000:01:00.0               24                      13   \n",
       "10    00000000:01:00.0               29                      15   \n",
       "11    00000000:01:00.0               28                      15   \n",
       "12    00000000:01:00.0               20                      10   \n",
       "..                 ...              ...                     ...   \n",
       "227   00000000:01:00.0                6                       6   \n",
       "228   00000000:01:00.0               20                      11   \n",
       "229   00000000:01:00.0               28                       9   \n",
       "230   00000000:01:00.0               14                       3   \n",
       "231   00000000:01:00.0                3                       1   \n",
       "\n",
       "     gpu_memory_used  gpu_memory_free  gpu_memory_total  \n",
       "8                841             7140              8192  \n",
       "9                869             7112              8192  \n",
       "10               865             7116              8192  \n",
       "11               865             7116              8192  \n",
       "12               865             7116              8192  \n",
       "..               ...              ...               ...  \n",
       "227              581             7400              8192  \n",
       "228              584             7398              8192  \n",
       "229              603             7378              8192  \n",
       "230              600             7382              8192  \n",
       "231              604             7378              8192  \n",
       "\n",
       "[224 rows x 9 columns]"
      ]
     },
     "execution_count": 21,
     "metadata": {},
     "output_type": "execute_result"
    }
   ],
   "source": [
    "df1"
   ]
  },
  {
   "cell_type": "code",
   "execution_count": 22,
   "metadata": {},
   "outputs": [
    {
     "data": {
      "text/plain": [
       "timestamp                 object\n",
       "index_gpu                  int64\n",
       "name                      object\n",
       "pci_bus_id                object\n",
       "gpu_utilization            int64\n",
       "gpu_memory_utilization     int64\n",
       "gpu_memory_used            int64\n",
       "gpu_memory_free            int64\n",
       "gpu_memory_total           int64\n",
       "dtype: object"
      ]
     },
     "execution_count": 22,
     "metadata": {},
     "output_type": "execute_result"
    }
   ],
   "source": [
    "df1.dtypes"
   ]
  },
  {
   "cell_type": "code",
   "execution_count": 23,
   "metadata": {},
   "outputs": [
    {
     "data": {
      "application/vnd.plotly.v1+json": {
       "config": {
        "plotlyServerURL": "https://plot.ly"
       },
       "data": [
        {
         "hovertemplate": "timestamp=%{x}<br>gpu_utilization=%{y}<extra></extra>",
         "legendgroup": "",
         "line": {
          "color": "#636efa",
          "dash": "solid"
         },
         "marker": {
          "symbol": "circle"
         },
         "mode": "lines",
         "name": "",
         "orientation": "v",
         "showlegend": false,
         "type": "scatter",
         "x": [
          "2023-06-22 18:56:56",
          "2023-06-22 18:56:57",
          "2023-06-22 18:56:58",
          "2023-06-22 18:56:59",
          "2023-06-22 18:57:00",
          "2023-06-22 18:57:01",
          "2023-06-22 18:57:02",
          "2023-06-22 18:57:03",
          "2023-06-22 18:57:04",
          "2023-06-22 18:57:05",
          "2023-06-22 18:57:06",
          "2023-06-22 18:57:07",
          "2023-06-22 18:57:08",
          "2023-06-22 18:57:09",
          "2023-06-22 18:57:10",
          "2023-06-22 18:57:11",
          "2023-06-22 18:57:12",
          "2023-06-22 18:57:13",
          "2023-06-22 18:57:14",
          "2023-06-22 18:57:15",
          "2023-06-22 18:57:16",
          "2023-06-22 18:57:17",
          "2023-06-22 18:57:18",
          "2023-06-22 18:57:19",
          "2023-06-22 18:57:20",
          "2023-06-22 18:57:21",
          "2023-06-22 18:57:23",
          "2023-06-22 18:57:24",
          "2023-06-22 18:57:25",
          "2023-06-22 18:57:26",
          "2023-06-22 18:57:27",
          "2023-06-22 18:57:28",
          "2023-06-22 18:57:29",
          "2023-06-22 18:57:30",
          "2023-06-22 18:57:31",
          "2023-06-22 18:57:32",
          "2023-06-22 18:57:33",
          "2023-06-22 18:57:34",
          "2023-06-22 18:57:35",
          "2023-06-22 18:57:36",
          "2023-06-22 18:57:37",
          "2023-06-22 18:57:38",
          "2023-06-22 18:57:39",
          "2023-06-22 18:57:40",
          "2023-06-22 18:57:41",
          "2023-06-22 18:57:42",
          "2023-06-22 18:57:43",
          "2023-06-22 18:57:44",
          "2023-06-22 18:57:45",
          "2023-06-22 18:57:46",
          "2023-06-22 18:57:47",
          "2023-06-22 18:57:48",
          "2023-06-22 18:57:49",
          "2023-06-22 18:57:50",
          "2023-06-22 18:57:51",
          "2023-06-22 18:57:52",
          "2023-06-22 18:57:53",
          "2023-06-22 18:57:54",
          "2023-06-22 18:57:55",
          "2023-06-22 18:57:56",
          "2023-06-22 18:57:57",
          "2023-06-22 18:57:58",
          "2023-06-22 18:57:59",
          "2023-06-22 18:58:00",
          "2023-06-22 18:58:01",
          "2023-06-22 18:58:02",
          "2023-06-22 18:58:03",
          "2023-06-22 18:58:04",
          "2023-06-22 18:58:05",
          "2023-06-22 18:58:06",
          "2023-06-22 18:58:07",
          "2023-06-22 18:58:08",
          "2023-06-22 18:58:09",
          "2023-06-22 18:58:10",
          "2023-06-22 18:58:11",
          "2023-06-22 18:58:13",
          "2023-06-22 18:58:14",
          "2023-06-22 18:58:15",
          "2023-06-22 18:58:16",
          "2023-06-22 18:58:17",
          "2023-06-22 18:58:18",
          "2023-06-22 18:58:19",
          "2023-06-22 18:58:20",
          "2023-06-22 18:58:21",
          "2023-06-22 18:58:22",
          "2023-06-22 18:58:23",
          "2023-06-22 18:58:24",
          "2023-06-22 18:58:25",
          "2023-06-22 18:58:26",
          "2023-06-22 18:58:27",
          "2023-06-22 18:58:28",
          "2023-06-22 18:58:29",
          "2023-06-22 18:58:30",
          "2023-06-22 18:58:31",
          "2023-06-22 18:58:32",
          "2023-06-22 18:58:33",
          "2023-06-22 18:58:34",
          "2023-06-22 18:58:35",
          "2023-06-22 18:58:36",
          "2023-06-22 18:58:37",
          "2023-06-22 18:58:38",
          "2023-06-22 18:58:39",
          "2023-06-22 18:58:40",
          "2023-06-22 18:58:41",
          "2023-06-22 18:58:42",
          "2023-06-22 18:58:43",
          "2023-06-22 18:58:44",
          "2023-06-22 18:58:45",
          "2023-06-22 18:58:47",
          "2023-06-22 18:58:48",
          "2023-06-22 18:58:49",
          "2023-06-22 18:58:50",
          "2023-06-22 18:58:51",
          "2023-06-22 18:58:52",
          "2023-06-22 18:58:53",
          "2023-06-22 18:58:54",
          "2023-06-22 18:58:55",
          "2023-06-22 18:58:56",
          "2023-06-22 18:58:57",
          "2023-06-22 18:58:58",
          "2023-06-22 18:58:59",
          "2023-06-22 18:59:00",
          "2023-06-22 18:59:01",
          "2023-06-22 18:59:02",
          "2023-06-22 18:59:03",
          "2023-06-22 18:59:04",
          "2023-06-22 18:59:05",
          "2023-06-22 18:59:06",
          "2023-06-22 18:59:07",
          "2023-06-22 18:59:08",
          "2023-06-22 18:59:09",
          "2023-06-22 18:59:10",
          "2023-06-22 18:59:11",
          "2023-06-22 18:59:12",
          "2023-06-22 18:59:13",
          "2023-06-22 18:59:14",
          "2023-06-22 18:59:15",
          "2023-06-22 18:59:16",
          "2023-06-22 18:59:17",
          "2023-06-22 18:59:18",
          "2023-06-22 18:59:19",
          "2023-06-22 18:59:20",
          "2023-06-22 18:59:21",
          "2023-06-22 18:59:23",
          "2023-06-22 18:59:24",
          "2023-06-22 18:59:25",
          "2023-06-22 18:59:26",
          "2023-06-22 18:59:27",
          "2023-06-22 18:59:28",
          "2023-06-22 18:59:29",
          "2023-06-22 18:59:30",
          "2023-06-22 18:59:31",
          "2023-06-22 18:59:32",
          "2023-06-22 18:59:33",
          "2023-06-22 18:59:34",
          "2023-06-22 18:59:35",
          "2023-06-22 18:59:36",
          "2023-06-22 18:59:37",
          "2023-06-22 18:59:38",
          "2023-06-22 18:59:39",
          "2023-06-22 18:59:40",
          "2023-06-22 18:59:41",
          "2023-06-22 18:59:42",
          "2023-06-22 18:59:43",
          "2023-06-22 18:59:44",
          "2023-06-22 18:59:45",
          "2023-06-22 18:59:46",
          "2023-06-22 18:59:47",
          "2023-06-22 18:59:48",
          "2023-06-22 18:59:49",
          "2023-06-22 18:59:50",
          "2023-06-22 18:59:51",
          "2023-06-22 18:59:52",
          "2023-06-22 18:59:53",
          "2023-06-22 18:59:54",
          "2023-06-22 18:59:55",
          "2023-06-22 18:59:56",
          "2023-06-22 18:59:58",
          "2023-06-22 18:59:59",
          "2023-06-22 19:00:00",
          "2023-06-22 19:00:01",
          "2023-06-22 19:00:02",
          "2023-06-22 19:00:03",
          "2023-06-22 19:00:04",
          "2023-06-22 19:00:05",
          "2023-06-22 19:00:06",
          "2023-06-22 19:00:07",
          "2023-06-22 19:00:08",
          "2023-06-22 19:00:09",
          "2023-06-22 19:00:10",
          "2023-06-22 19:00:11",
          "2023-06-22 19:00:12",
          "2023-06-22 19:00:13",
          "2023-06-22 19:00:14",
          "2023-06-22 19:00:15",
          "2023-06-22 19:00:16",
          "2023-06-22 19:00:17",
          "2023-06-22 19:00:18",
          "2023-06-22 19:00:19",
          "2023-06-22 19:00:20",
          "2023-06-22 19:00:21",
          "2023-06-22 19:00:22",
          "2023-06-22 19:00:23",
          "2023-06-22 19:00:24",
          "2023-06-22 19:00:25",
          "2023-06-22 19:00:26",
          "2023-06-22 19:00:27",
          "2023-06-22 19:00:28",
          "2023-06-22 19:00:29",
          "2023-06-22 19:00:30",
          "2023-06-22 19:00:31",
          "2023-06-22 19:00:32",
          "2023-06-22 19:00:33",
          "2023-06-22 19:00:34",
          "2023-06-22 19:00:35",
          "2023-06-22 19:00:36",
          "2023-06-22 19:00:37",
          "2023-06-22 19:00:38",
          "2023-06-22 19:00:39",
          "2023-06-22 19:00:40",
          "2023-06-22 19:00:41",
          "2023-06-22 19:00:42",
          "2023-06-22 19:00:43",
          "2023-06-22 19:00:45"
         ],
         "xaxis": "x",
         "y": [
          22,
          24,
          29,
          28,
          20,
          37,
          26,
          27,
          26,
          34,
          17,
          26,
          10,
          19,
          31,
          41,
          12,
          17,
          40,
          11,
          16,
          30,
          42,
          32,
          18,
          23,
          25,
          32,
          17,
          33,
          10,
          21,
          35,
          28,
          13,
          31,
          17,
          21,
          24,
          41,
          36,
          19,
          34,
          32,
          21,
          31,
          41,
          23,
          27,
          12,
          22,
          8,
          34,
          11,
          29,
          29,
          24,
          33,
          8,
          14,
          21,
          38,
          9,
          12,
          26,
          39,
          37,
          24,
          19,
          41,
          28,
          19,
          31,
          19,
          37,
          40,
          20,
          27,
          29,
          24,
          36,
          25,
          20,
          32,
          40,
          24,
          20,
          37,
          40,
          24,
          21,
          39,
          33,
          24,
          31,
          24,
          20,
          32,
          21,
          20,
          8,
          32,
          41,
          38,
          20,
          24,
          40,
          34,
          21,
          28,
          36,
          20,
          30,
          40,
          23,
          40,
          20,
          25,
          39,
          32,
          19,
          33,
          18,
          8,
          30,
          41,
          39,
          33,
          20,
          32,
          39,
          30,
          19,
          34,
          20,
          29,
          41,
          30,
          16,
          30,
          20,
          29,
          38,
          29,
          7,
          29,
          40,
          20,
          23,
          38,
          20,
          32,
          18,
          8,
          30,
          42,
          39,
          30,
          19,
          31,
          19,
          38,
          29,
          19,
          38,
          38,
          23,
          7,
          35,
          39,
          29,
          20,
          37,
          39,
          16,
          7,
          30,
          29,
          26,
          20,
          34,
          19,
          35,
          19,
          26,
          15,
          25,
          5,
          13,
          7,
          13,
          21,
          8,
          9,
          27,
          11,
          29,
          22,
          16,
          13,
          8,
          7,
          8,
          19,
          10,
          6,
          17,
          15,
          9,
          6,
          20,
          8,
          9,
          24,
          7,
          1,
          4,
          3,
          10,
          6,
          20,
          28,
          14,
          3
         ],
         "yaxis": "y"
        }
       ],
       "layout": {
        "legend": {
         "tracegroupgap": 0
        },
        "template": {
         "data": {
          "bar": [
           {
            "error_x": {
             "color": "#2a3f5f"
            },
            "error_y": {
             "color": "#2a3f5f"
            },
            "marker": {
             "line": {
              "color": "#E5ECF6",
              "width": 0.5
             },
             "pattern": {
              "fillmode": "overlay",
              "size": 10,
              "solidity": 0.2
             }
            },
            "type": "bar"
           }
          ],
          "barpolar": [
           {
            "marker": {
             "line": {
              "color": "#E5ECF6",
              "width": 0.5
             },
             "pattern": {
              "fillmode": "overlay",
              "size": 10,
              "solidity": 0.2
             }
            },
            "type": "barpolar"
           }
          ],
          "carpet": [
           {
            "aaxis": {
             "endlinecolor": "#2a3f5f",
             "gridcolor": "white",
             "linecolor": "white",
             "minorgridcolor": "white",
             "startlinecolor": "#2a3f5f"
            },
            "baxis": {
             "endlinecolor": "#2a3f5f",
             "gridcolor": "white",
             "linecolor": "white",
             "minorgridcolor": "white",
             "startlinecolor": "#2a3f5f"
            },
            "type": "carpet"
           }
          ],
          "choropleth": [
           {
            "colorbar": {
             "outlinewidth": 0,
             "ticks": ""
            },
            "type": "choropleth"
           }
          ],
          "contour": [
           {
            "colorbar": {
             "outlinewidth": 0,
             "ticks": ""
            },
            "colorscale": [
             [
              0,
              "#0d0887"
             ],
             [
              0.1111111111111111,
              "#46039f"
             ],
             [
              0.2222222222222222,
              "#7201a8"
             ],
             [
              0.3333333333333333,
              "#9c179e"
             ],
             [
              0.4444444444444444,
              "#bd3786"
             ],
             [
              0.5555555555555556,
              "#d8576b"
             ],
             [
              0.6666666666666666,
              "#ed7953"
             ],
             [
              0.7777777777777778,
              "#fb9f3a"
             ],
             [
              0.8888888888888888,
              "#fdca26"
             ],
             [
              1,
              "#f0f921"
             ]
            ],
            "type": "contour"
           }
          ],
          "contourcarpet": [
           {
            "colorbar": {
             "outlinewidth": 0,
             "ticks": ""
            },
            "type": "contourcarpet"
           }
          ],
          "heatmap": [
           {
            "colorbar": {
             "outlinewidth": 0,
             "ticks": ""
            },
            "colorscale": [
             [
              0,
              "#0d0887"
             ],
             [
              0.1111111111111111,
              "#46039f"
             ],
             [
              0.2222222222222222,
              "#7201a8"
             ],
             [
              0.3333333333333333,
              "#9c179e"
             ],
             [
              0.4444444444444444,
              "#bd3786"
             ],
             [
              0.5555555555555556,
              "#d8576b"
             ],
             [
              0.6666666666666666,
              "#ed7953"
             ],
             [
              0.7777777777777778,
              "#fb9f3a"
             ],
             [
              0.8888888888888888,
              "#fdca26"
             ],
             [
              1,
              "#f0f921"
             ]
            ],
            "type": "heatmap"
           }
          ],
          "heatmapgl": [
           {
            "colorbar": {
             "outlinewidth": 0,
             "ticks": ""
            },
            "colorscale": [
             [
              0,
              "#0d0887"
             ],
             [
              0.1111111111111111,
              "#46039f"
             ],
             [
              0.2222222222222222,
              "#7201a8"
             ],
             [
              0.3333333333333333,
              "#9c179e"
             ],
             [
              0.4444444444444444,
              "#bd3786"
             ],
             [
              0.5555555555555556,
              "#d8576b"
             ],
             [
              0.6666666666666666,
              "#ed7953"
             ],
             [
              0.7777777777777778,
              "#fb9f3a"
             ],
             [
              0.8888888888888888,
              "#fdca26"
             ],
             [
              1,
              "#f0f921"
             ]
            ],
            "type": "heatmapgl"
           }
          ],
          "histogram": [
           {
            "marker": {
             "pattern": {
              "fillmode": "overlay",
              "size": 10,
              "solidity": 0.2
             }
            },
            "type": "histogram"
           }
          ],
          "histogram2d": [
           {
            "colorbar": {
             "outlinewidth": 0,
             "ticks": ""
            },
            "colorscale": [
             [
              0,
              "#0d0887"
             ],
             [
              0.1111111111111111,
              "#46039f"
             ],
             [
              0.2222222222222222,
              "#7201a8"
             ],
             [
              0.3333333333333333,
              "#9c179e"
             ],
             [
              0.4444444444444444,
              "#bd3786"
             ],
             [
              0.5555555555555556,
              "#d8576b"
             ],
             [
              0.6666666666666666,
              "#ed7953"
             ],
             [
              0.7777777777777778,
              "#fb9f3a"
             ],
             [
              0.8888888888888888,
              "#fdca26"
             ],
             [
              1,
              "#f0f921"
             ]
            ],
            "type": "histogram2d"
           }
          ],
          "histogram2dcontour": [
           {
            "colorbar": {
             "outlinewidth": 0,
             "ticks": ""
            },
            "colorscale": [
             [
              0,
              "#0d0887"
             ],
             [
              0.1111111111111111,
              "#46039f"
             ],
             [
              0.2222222222222222,
              "#7201a8"
             ],
             [
              0.3333333333333333,
              "#9c179e"
             ],
             [
              0.4444444444444444,
              "#bd3786"
             ],
             [
              0.5555555555555556,
              "#d8576b"
             ],
             [
              0.6666666666666666,
              "#ed7953"
             ],
             [
              0.7777777777777778,
              "#fb9f3a"
             ],
             [
              0.8888888888888888,
              "#fdca26"
             ],
             [
              1,
              "#f0f921"
             ]
            ],
            "type": "histogram2dcontour"
           }
          ],
          "mesh3d": [
           {
            "colorbar": {
             "outlinewidth": 0,
             "ticks": ""
            },
            "type": "mesh3d"
           }
          ],
          "parcoords": [
           {
            "line": {
             "colorbar": {
              "outlinewidth": 0,
              "ticks": ""
             }
            },
            "type": "parcoords"
           }
          ],
          "pie": [
           {
            "automargin": true,
            "type": "pie"
           }
          ],
          "scatter": [
           {
            "fillpattern": {
             "fillmode": "overlay",
             "size": 10,
             "solidity": 0.2
            },
            "type": "scatter"
           }
          ],
          "scatter3d": [
           {
            "line": {
             "colorbar": {
              "outlinewidth": 0,
              "ticks": ""
             }
            },
            "marker": {
             "colorbar": {
              "outlinewidth": 0,
              "ticks": ""
             }
            },
            "type": "scatter3d"
           }
          ],
          "scattercarpet": [
           {
            "marker": {
             "colorbar": {
              "outlinewidth": 0,
              "ticks": ""
             }
            },
            "type": "scattercarpet"
           }
          ],
          "scattergeo": [
           {
            "marker": {
             "colorbar": {
              "outlinewidth": 0,
              "ticks": ""
             }
            },
            "type": "scattergeo"
           }
          ],
          "scattergl": [
           {
            "marker": {
             "colorbar": {
              "outlinewidth": 0,
              "ticks": ""
             }
            },
            "type": "scattergl"
           }
          ],
          "scattermapbox": [
           {
            "marker": {
             "colorbar": {
              "outlinewidth": 0,
              "ticks": ""
             }
            },
            "type": "scattermapbox"
           }
          ],
          "scatterpolar": [
           {
            "marker": {
             "colorbar": {
              "outlinewidth": 0,
              "ticks": ""
             }
            },
            "type": "scatterpolar"
           }
          ],
          "scatterpolargl": [
           {
            "marker": {
             "colorbar": {
              "outlinewidth": 0,
              "ticks": ""
             }
            },
            "type": "scatterpolargl"
           }
          ],
          "scatterternary": [
           {
            "marker": {
             "colorbar": {
              "outlinewidth": 0,
              "ticks": ""
             }
            },
            "type": "scatterternary"
           }
          ],
          "surface": [
           {
            "colorbar": {
             "outlinewidth": 0,
             "ticks": ""
            },
            "colorscale": [
             [
              0,
              "#0d0887"
             ],
             [
              0.1111111111111111,
              "#46039f"
             ],
             [
              0.2222222222222222,
              "#7201a8"
             ],
             [
              0.3333333333333333,
              "#9c179e"
             ],
             [
              0.4444444444444444,
              "#bd3786"
             ],
             [
              0.5555555555555556,
              "#d8576b"
             ],
             [
              0.6666666666666666,
              "#ed7953"
             ],
             [
              0.7777777777777778,
              "#fb9f3a"
             ],
             [
              0.8888888888888888,
              "#fdca26"
             ],
             [
              1,
              "#f0f921"
             ]
            ],
            "type": "surface"
           }
          ],
          "table": [
           {
            "cells": {
             "fill": {
              "color": "#EBF0F8"
             },
             "line": {
              "color": "white"
             }
            },
            "header": {
             "fill": {
              "color": "#C8D4E3"
             },
             "line": {
              "color": "white"
             }
            },
            "type": "table"
           }
          ]
         },
         "layout": {
          "annotationdefaults": {
           "arrowcolor": "#2a3f5f",
           "arrowhead": 0,
           "arrowwidth": 1
          },
          "autotypenumbers": "strict",
          "coloraxis": {
           "colorbar": {
            "outlinewidth": 0,
            "ticks": ""
           }
          },
          "colorscale": {
           "diverging": [
            [
             0,
             "#8e0152"
            ],
            [
             0.1,
             "#c51b7d"
            ],
            [
             0.2,
             "#de77ae"
            ],
            [
             0.3,
             "#f1b6da"
            ],
            [
             0.4,
             "#fde0ef"
            ],
            [
             0.5,
             "#f7f7f7"
            ],
            [
             0.6,
             "#e6f5d0"
            ],
            [
             0.7,
             "#b8e186"
            ],
            [
             0.8,
             "#7fbc41"
            ],
            [
             0.9,
             "#4d9221"
            ],
            [
             1,
             "#276419"
            ]
           ],
           "sequential": [
            [
             0,
             "#0d0887"
            ],
            [
             0.1111111111111111,
             "#46039f"
            ],
            [
             0.2222222222222222,
             "#7201a8"
            ],
            [
             0.3333333333333333,
             "#9c179e"
            ],
            [
             0.4444444444444444,
             "#bd3786"
            ],
            [
             0.5555555555555556,
             "#d8576b"
            ],
            [
             0.6666666666666666,
             "#ed7953"
            ],
            [
             0.7777777777777778,
             "#fb9f3a"
            ],
            [
             0.8888888888888888,
             "#fdca26"
            ],
            [
             1,
             "#f0f921"
            ]
           ],
           "sequentialminus": [
            [
             0,
             "#0d0887"
            ],
            [
             0.1111111111111111,
             "#46039f"
            ],
            [
             0.2222222222222222,
             "#7201a8"
            ],
            [
             0.3333333333333333,
             "#9c179e"
            ],
            [
             0.4444444444444444,
             "#bd3786"
            ],
            [
             0.5555555555555556,
             "#d8576b"
            ],
            [
             0.6666666666666666,
             "#ed7953"
            ],
            [
             0.7777777777777778,
             "#fb9f3a"
            ],
            [
             0.8888888888888888,
             "#fdca26"
            ],
            [
             1,
             "#f0f921"
            ]
           ]
          },
          "colorway": [
           "#636efa",
           "#EF553B",
           "#00cc96",
           "#ab63fa",
           "#FFA15A",
           "#19d3f3",
           "#FF6692",
           "#B6E880",
           "#FF97FF",
           "#FECB52"
          ],
          "font": {
           "color": "#2a3f5f"
          },
          "geo": {
           "bgcolor": "white",
           "lakecolor": "white",
           "landcolor": "#E5ECF6",
           "showlakes": true,
           "showland": true,
           "subunitcolor": "white"
          },
          "hoverlabel": {
           "align": "left"
          },
          "hovermode": "closest",
          "mapbox": {
           "style": "light"
          },
          "paper_bgcolor": "white",
          "plot_bgcolor": "#E5ECF6",
          "polar": {
           "angularaxis": {
            "gridcolor": "white",
            "linecolor": "white",
            "ticks": ""
           },
           "bgcolor": "#E5ECF6",
           "radialaxis": {
            "gridcolor": "white",
            "linecolor": "white",
            "ticks": ""
           }
          },
          "scene": {
           "xaxis": {
            "backgroundcolor": "#E5ECF6",
            "gridcolor": "white",
            "gridwidth": 2,
            "linecolor": "white",
            "showbackground": true,
            "ticks": "",
            "zerolinecolor": "white"
           },
           "yaxis": {
            "backgroundcolor": "#E5ECF6",
            "gridcolor": "white",
            "gridwidth": 2,
            "linecolor": "white",
            "showbackground": true,
            "ticks": "",
            "zerolinecolor": "white"
           },
           "zaxis": {
            "backgroundcolor": "#E5ECF6",
            "gridcolor": "white",
            "gridwidth": 2,
            "linecolor": "white",
            "showbackground": true,
            "ticks": "",
            "zerolinecolor": "white"
           }
          },
          "shapedefaults": {
           "line": {
            "color": "#2a3f5f"
           }
          },
          "ternary": {
           "aaxis": {
            "gridcolor": "white",
            "linecolor": "white",
            "ticks": ""
           },
           "baxis": {
            "gridcolor": "white",
            "linecolor": "white",
            "ticks": ""
           },
           "bgcolor": "#E5ECF6",
           "caxis": {
            "gridcolor": "white",
            "linecolor": "white",
            "ticks": ""
           }
          },
          "title": {
           "x": 0.05
          },
          "xaxis": {
           "automargin": true,
           "gridcolor": "white",
           "linecolor": "white",
           "ticks": "",
           "title": {
            "standoff": 15
           },
           "zerolinecolor": "white",
           "zerolinewidth": 2
          },
          "yaxis": {
           "automargin": true,
           "gridcolor": "white",
           "linecolor": "white",
           "ticks": "",
           "title": {
            "standoff": 15
           },
           "zerolinecolor": "white",
           "zerolinewidth": 2
          }
         }
        },
        "title": {
         "text": "GPU Utilization"
        },
        "xaxis": {
         "anchor": "y",
         "domain": [
          0,
          1
         ],
         "title": {
          "text": "timestamp"
         }
        },
        "yaxis": {
         "anchor": "x",
         "domain": [
          0,
          1
         ],
         "title": {
          "text": "gpu_utilization"
         }
        }
       }
      }
     },
     "metadata": {},
     "output_type": "display_data"
    }
   ],
   "source": [
    "#plot the gpu_utilization column as a line graph with timestamp as the x-axis, make it interactive\n",
    "import plotly.express as px\n",
    "fig = px.line(df1, x='timestamp', y='gpu_utilization', title='GPU Utilization')\n",
    "fig.show()\n"
   ]
  },
  {
   "cell_type": "code",
   "execution_count": 24,
   "metadata": {},
   "outputs": [
    {
     "data": {
      "application/vnd.plotly.v1+json": {
       "config": {
        "plotlyServerURL": "https://plot.ly"
       },
       "data": [
        {
         "hovertemplate": "timestamp=%{x}<br>gpu_memory_utilization=%{y}<extra></extra>",
         "legendgroup": "",
         "line": {
          "color": "#636efa",
          "dash": "solid"
         },
         "marker": {
          "symbol": "circle"
         },
         "mode": "lines",
         "name": "",
         "orientation": "v",
         "showlegend": false,
         "type": "scatter",
         "x": [
          "2023-06-22 18:56:56",
          "2023-06-22 18:56:57",
          "2023-06-22 18:56:58",
          "2023-06-22 18:56:59",
          "2023-06-22 18:57:00",
          "2023-06-22 18:57:01",
          "2023-06-22 18:57:02",
          "2023-06-22 18:57:03",
          "2023-06-22 18:57:04",
          "2023-06-22 18:57:05",
          "2023-06-22 18:57:06",
          "2023-06-22 18:57:07",
          "2023-06-22 18:57:08",
          "2023-06-22 18:57:09",
          "2023-06-22 18:57:10",
          "2023-06-22 18:57:11",
          "2023-06-22 18:57:12",
          "2023-06-22 18:57:13",
          "2023-06-22 18:57:14",
          "2023-06-22 18:57:15",
          "2023-06-22 18:57:16",
          "2023-06-22 18:57:17",
          "2023-06-22 18:57:18",
          "2023-06-22 18:57:19",
          "2023-06-22 18:57:20",
          "2023-06-22 18:57:21",
          "2023-06-22 18:57:23",
          "2023-06-22 18:57:24",
          "2023-06-22 18:57:25",
          "2023-06-22 18:57:26",
          "2023-06-22 18:57:27",
          "2023-06-22 18:57:28",
          "2023-06-22 18:57:29",
          "2023-06-22 18:57:30",
          "2023-06-22 18:57:31",
          "2023-06-22 18:57:32",
          "2023-06-22 18:57:33",
          "2023-06-22 18:57:34",
          "2023-06-22 18:57:35",
          "2023-06-22 18:57:36",
          "2023-06-22 18:57:37",
          "2023-06-22 18:57:38",
          "2023-06-22 18:57:39",
          "2023-06-22 18:57:40",
          "2023-06-22 18:57:41",
          "2023-06-22 18:57:42",
          "2023-06-22 18:57:43",
          "2023-06-22 18:57:44",
          "2023-06-22 18:57:45",
          "2023-06-22 18:57:46",
          "2023-06-22 18:57:47",
          "2023-06-22 18:57:48",
          "2023-06-22 18:57:49",
          "2023-06-22 18:57:50",
          "2023-06-22 18:57:51",
          "2023-06-22 18:57:52",
          "2023-06-22 18:57:53",
          "2023-06-22 18:57:54",
          "2023-06-22 18:57:55",
          "2023-06-22 18:57:56",
          "2023-06-22 18:57:57",
          "2023-06-22 18:57:58",
          "2023-06-22 18:57:59",
          "2023-06-22 18:58:00",
          "2023-06-22 18:58:01",
          "2023-06-22 18:58:02",
          "2023-06-22 18:58:03",
          "2023-06-22 18:58:04",
          "2023-06-22 18:58:05",
          "2023-06-22 18:58:06",
          "2023-06-22 18:58:07",
          "2023-06-22 18:58:08",
          "2023-06-22 18:58:09",
          "2023-06-22 18:58:10",
          "2023-06-22 18:58:11",
          "2023-06-22 18:58:13",
          "2023-06-22 18:58:14",
          "2023-06-22 18:58:15",
          "2023-06-22 18:58:16",
          "2023-06-22 18:58:17",
          "2023-06-22 18:58:18",
          "2023-06-22 18:58:19",
          "2023-06-22 18:58:20",
          "2023-06-22 18:58:21",
          "2023-06-22 18:58:22",
          "2023-06-22 18:58:23",
          "2023-06-22 18:58:24",
          "2023-06-22 18:58:25",
          "2023-06-22 18:58:26",
          "2023-06-22 18:58:27",
          "2023-06-22 18:58:28",
          "2023-06-22 18:58:29",
          "2023-06-22 18:58:30",
          "2023-06-22 18:58:31",
          "2023-06-22 18:58:32",
          "2023-06-22 18:58:33",
          "2023-06-22 18:58:34",
          "2023-06-22 18:58:35",
          "2023-06-22 18:58:36",
          "2023-06-22 18:58:37",
          "2023-06-22 18:58:38",
          "2023-06-22 18:58:39",
          "2023-06-22 18:58:40",
          "2023-06-22 18:58:41",
          "2023-06-22 18:58:42",
          "2023-06-22 18:58:43",
          "2023-06-22 18:58:44",
          "2023-06-22 18:58:45",
          "2023-06-22 18:58:47",
          "2023-06-22 18:58:48",
          "2023-06-22 18:58:49",
          "2023-06-22 18:58:50",
          "2023-06-22 18:58:51",
          "2023-06-22 18:58:52",
          "2023-06-22 18:58:53",
          "2023-06-22 18:58:54",
          "2023-06-22 18:58:55",
          "2023-06-22 18:58:56",
          "2023-06-22 18:58:57",
          "2023-06-22 18:58:58",
          "2023-06-22 18:58:59",
          "2023-06-22 18:59:00",
          "2023-06-22 18:59:01",
          "2023-06-22 18:59:02",
          "2023-06-22 18:59:03",
          "2023-06-22 18:59:04",
          "2023-06-22 18:59:05",
          "2023-06-22 18:59:06",
          "2023-06-22 18:59:07",
          "2023-06-22 18:59:08",
          "2023-06-22 18:59:09",
          "2023-06-22 18:59:10",
          "2023-06-22 18:59:11",
          "2023-06-22 18:59:12",
          "2023-06-22 18:59:13",
          "2023-06-22 18:59:14",
          "2023-06-22 18:59:15",
          "2023-06-22 18:59:16",
          "2023-06-22 18:59:17",
          "2023-06-22 18:59:18",
          "2023-06-22 18:59:19",
          "2023-06-22 18:59:20",
          "2023-06-22 18:59:21",
          "2023-06-22 18:59:23",
          "2023-06-22 18:59:24",
          "2023-06-22 18:59:25",
          "2023-06-22 18:59:26",
          "2023-06-22 18:59:27",
          "2023-06-22 18:59:28",
          "2023-06-22 18:59:29",
          "2023-06-22 18:59:30",
          "2023-06-22 18:59:31",
          "2023-06-22 18:59:32",
          "2023-06-22 18:59:33",
          "2023-06-22 18:59:34",
          "2023-06-22 18:59:35",
          "2023-06-22 18:59:36",
          "2023-06-22 18:59:37",
          "2023-06-22 18:59:38",
          "2023-06-22 18:59:39",
          "2023-06-22 18:59:40",
          "2023-06-22 18:59:41",
          "2023-06-22 18:59:42",
          "2023-06-22 18:59:43",
          "2023-06-22 18:59:44",
          "2023-06-22 18:59:45",
          "2023-06-22 18:59:46",
          "2023-06-22 18:59:47",
          "2023-06-22 18:59:48",
          "2023-06-22 18:59:49",
          "2023-06-22 18:59:50",
          "2023-06-22 18:59:51",
          "2023-06-22 18:59:52",
          "2023-06-22 18:59:53",
          "2023-06-22 18:59:54",
          "2023-06-22 18:59:55",
          "2023-06-22 18:59:56",
          "2023-06-22 18:59:58",
          "2023-06-22 18:59:59",
          "2023-06-22 19:00:00",
          "2023-06-22 19:00:01",
          "2023-06-22 19:00:02",
          "2023-06-22 19:00:03",
          "2023-06-22 19:00:04",
          "2023-06-22 19:00:05",
          "2023-06-22 19:00:06",
          "2023-06-22 19:00:07",
          "2023-06-22 19:00:08",
          "2023-06-22 19:00:09",
          "2023-06-22 19:00:10",
          "2023-06-22 19:00:11",
          "2023-06-22 19:00:12",
          "2023-06-22 19:00:13",
          "2023-06-22 19:00:14",
          "2023-06-22 19:00:15",
          "2023-06-22 19:00:16",
          "2023-06-22 19:00:17",
          "2023-06-22 19:00:18",
          "2023-06-22 19:00:19",
          "2023-06-22 19:00:20",
          "2023-06-22 19:00:21",
          "2023-06-22 19:00:22",
          "2023-06-22 19:00:23",
          "2023-06-22 19:00:24",
          "2023-06-22 19:00:25",
          "2023-06-22 19:00:26",
          "2023-06-22 19:00:27",
          "2023-06-22 19:00:28",
          "2023-06-22 19:00:29",
          "2023-06-22 19:00:30",
          "2023-06-22 19:00:31",
          "2023-06-22 19:00:32",
          "2023-06-22 19:00:33",
          "2023-06-22 19:00:34",
          "2023-06-22 19:00:35",
          "2023-06-22 19:00:36",
          "2023-06-22 19:00:37",
          "2023-06-22 19:00:38",
          "2023-06-22 19:00:39",
          "2023-06-22 19:00:40",
          "2023-06-22 19:00:41",
          "2023-06-22 19:00:42",
          "2023-06-22 19:00:43",
          "2023-06-22 19:00:45"
         ],
         "xaxis": "x",
         "y": [
          6,
          13,
          15,
          15,
          10,
          19,
          14,
          13,
          14,
          16,
          3,
          5,
          2,
          6,
          15,
          18,
          3,
          4,
          19,
          2,
          7,
          15,
          22,
          11,
          4,
          10,
          13,
          7,
          4,
          10,
          2,
          7,
          17,
          8,
          3,
          8,
          4,
          8,
          11,
          22,
          18,
          10,
          17,
          16,
          11,
          16,
          22,
          10,
          13,
          2,
          4,
          2,
          8,
          3,
          9,
          9,
          14,
          18,
          2,
          5,
          10,
          20,
          2,
          4,
          13,
          21,
          20,
          12,
          10,
          23,
          15,
          10,
          16,
          10,
          19,
          21,
          10,
          14,
          15,
          13,
          19,
          14,
          11,
          17,
          21,
          12,
          10,
          20,
          21,
          12,
          11,
          21,
          17,
          13,
          17,
          12,
          11,
          16,
          12,
          8,
          2,
          16,
          22,
          21,
          11,
          13,
          21,
          18,
          11,
          14,
          19,
          10,
          15,
          21,
          12,
          21,
          11,
          12,
          21,
          16,
          10,
          17,
          7,
          2,
          15,
          22,
          21,
          18,
          10,
          17,
          21,
          16,
          10,
          16,
          10,
          14,
          22,
          14,
          3,
          12,
          11,
          15,
          21,
          11,
          2,
          11,
          22,
          11,
          12,
          21,
          10,
          17,
          7,
          2,
          14,
          23,
          21,
          15,
          10,
          14,
          10,
          21,
          15,
          10,
          19,
          21,
          6,
          2,
          14,
          21,
          15,
          11,
          20,
          21,
          3,
          2,
          16,
          15,
          13,
          10,
          17,
          10,
          19,
          10,
          7,
          2,
          4,
          1,
          5,
          5,
          9,
          12,
          8,
          7,
          13,
          7,
          13,
          10,
          10,
          8,
          7,
          7,
          7,
          10,
          8,
          6,
          9,
          9,
          7,
          6,
          11,
          7,
          7,
          12,
          1,
          0,
          3,
          3,
          8,
          6,
          11,
          9,
          3,
          1
         ],
         "yaxis": "y"
        }
       ],
       "layout": {
        "legend": {
         "tracegroupgap": 0
        },
        "template": {
         "data": {
          "bar": [
           {
            "error_x": {
             "color": "#2a3f5f"
            },
            "error_y": {
             "color": "#2a3f5f"
            },
            "marker": {
             "line": {
              "color": "#E5ECF6",
              "width": 0.5
             },
             "pattern": {
              "fillmode": "overlay",
              "size": 10,
              "solidity": 0.2
             }
            },
            "type": "bar"
           }
          ],
          "barpolar": [
           {
            "marker": {
             "line": {
              "color": "#E5ECF6",
              "width": 0.5
             },
             "pattern": {
              "fillmode": "overlay",
              "size": 10,
              "solidity": 0.2
             }
            },
            "type": "barpolar"
           }
          ],
          "carpet": [
           {
            "aaxis": {
             "endlinecolor": "#2a3f5f",
             "gridcolor": "white",
             "linecolor": "white",
             "minorgridcolor": "white",
             "startlinecolor": "#2a3f5f"
            },
            "baxis": {
             "endlinecolor": "#2a3f5f",
             "gridcolor": "white",
             "linecolor": "white",
             "minorgridcolor": "white",
             "startlinecolor": "#2a3f5f"
            },
            "type": "carpet"
           }
          ],
          "choropleth": [
           {
            "colorbar": {
             "outlinewidth": 0,
             "ticks": ""
            },
            "type": "choropleth"
           }
          ],
          "contour": [
           {
            "colorbar": {
             "outlinewidth": 0,
             "ticks": ""
            },
            "colorscale": [
             [
              0,
              "#0d0887"
             ],
             [
              0.1111111111111111,
              "#46039f"
             ],
             [
              0.2222222222222222,
              "#7201a8"
             ],
             [
              0.3333333333333333,
              "#9c179e"
             ],
             [
              0.4444444444444444,
              "#bd3786"
             ],
             [
              0.5555555555555556,
              "#d8576b"
             ],
             [
              0.6666666666666666,
              "#ed7953"
             ],
             [
              0.7777777777777778,
              "#fb9f3a"
             ],
             [
              0.8888888888888888,
              "#fdca26"
             ],
             [
              1,
              "#f0f921"
             ]
            ],
            "type": "contour"
           }
          ],
          "contourcarpet": [
           {
            "colorbar": {
             "outlinewidth": 0,
             "ticks": ""
            },
            "type": "contourcarpet"
           }
          ],
          "heatmap": [
           {
            "colorbar": {
             "outlinewidth": 0,
             "ticks": ""
            },
            "colorscale": [
             [
              0,
              "#0d0887"
             ],
             [
              0.1111111111111111,
              "#46039f"
             ],
             [
              0.2222222222222222,
              "#7201a8"
             ],
             [
              0.3333333333333333,
              "#9c179e"
             ],
             [
              0.4444444444444444,
              "#bd3786"
             ],
             [
              0.5555555555555556,
              "#d8576b"
             ],
             [
              0.6666666666666666,
              "#ed7953"
             ],
             [
              0.7777777777777778,
              "#fb9f3a"
             ],
             [
              0.8888888888888888,
              "#fdca26"
             ],
             [
              1,
              "#f0f921"
             ]
            ],
            "type": "heatmap"
           }
          ],
          "heatmapgl": [
           {
            "colorbar": {
             "outlinewidth": 0,
             "ticks": ""
            },
            "colorscale": [
             [
              0,
              "#0d0887"
             ],
             [
              0.1111111111111111,
              "#46039f"
             ],
             [
              0.2222222222222222,
              "#7201a8"
             ],
             [
              0.3333333333333333,
              "#9c179e"
             ],
             [
              0.4444444444444444,
              "#bd3786"
             ],
             [
              0.5555555555555556,
              "#d8576b"
             ],
             [
              0.6666666666666666,
              "#ed7953"
             ],
             [
              0.7777777777777778,
              "#fb9f3a"
             ],
             [
              0.8888888888888888,
              "#fdca26"
             ],
             [
              1,
              "#f0f921"
             ]
            ],
            "type": "heatmapgl"
           }
          ],
          "histogram": [
           {
            "marker": {
             "pattern": {
              "fillmode": "overlay",
              "size": 10,
              "solidity": 0.2
             }
            },
            "type": "histogram"
           }
          ],
          "histogram2d": [
           {
            "colorbar": {
             "outlinewidth": 0,
             "ticks": ""
            },
            "colorscale": [
             [
              0,
              "#0d0887"
             ],
             [
              0.1111111111111111,
              "#46039f"
             ],
             [
              0.2222222222222222,
              "#7201a8"
             ],
             [
              0.3333333333333333,
              "#9c179e"
             ],
             [
              0.4444444444444444,
              "#bd3786"
             ],
             [
              0.5555555555555556,
              "#d8576b"
             ],
             [
              0.6666666666666666,
              "#ed7953"
             ],
             [
              0.7777777777777778,
              "#fb9f3a"
             ],
             [
              0.8888888888888888,
              "#fdca26"
             ],
             [
              1,
              "#f0f921"
             ]
            ],
            "type": "histogram2d"
           }
          ],
          "histogram2dcontour": [
           {
            "colorbar": {
             "outlinewidth": 0,
             "ticks": ""
            },
            "colorscale": [
             [
              0,
              "#0d0887"
             ],
             [
              0.1111111111111111,
              "#46039f"
             ],
             [
              0.2222222222222222,
              "#7201a8"
             ],
             [
              0.3333333333333333,
              "#9c179e"
             ],
             [
              0.4444444444444444,
              "#bd3786"
             ],
             [
              0.5555555555555556,
              "#d8576b"
             ],
             [
              0.6666666666666666,
              "#ed7953"
             ],
             [
              0.7777777777777778,
              "#fb9f3a"
             ],
             [
              0.8888888888888888,
              "#fdca26"
             ],
             [
              1,
              "#f0f921"
             ]
            ],
            "type": "histogram2dcontour"
           }
          ],
          "mesh3d": [
           {
            "colorbar": {
             "outlinewidth": 0,
             "ticks": ""
            },
            "type": "mesh3d"
           }
          ],
          "parcoords": [
           {
            "line": {
             "colorbar": {
              "outlinewidth": 0,
              "ticks": ""
             }
            },
            "type": "parcoords"
           }
          ],
          "pie": [
           {
            "automargin": true,
            "type": "pie"
           }
          ],
          "scatter": [
           {
            "fillpattern": {
             "fillmode": "overlay",
             "size": 10,
             "solidity": 0.2
            },
            "type": "scatter"
           }
          ],
          "scatter3d": [
           {
            "line": {
             "colorbar": {
              "outlinewidth": 0,
              "ticks": ""
             }
            },
            "marker": {
             "colorbar": {
              "outlinewidth": 0,
              "ticks": ""
             }
            },
            "type": "scatter3d"
           }
          ],
          "scattercarpet": [
           {
            "marker": {
             "colorbar": {
              "outlinewidth": 0,
              "ticks": ""
             }
            },
            "type": "scattercarpet"
           }
          ],
          "scattergeo": [
           {
            "marker": {
             "colorbar": {
              "outlinewidth": 0,
              "ticks": ""
             }
            },
            "type": "scattergeo"
           }
          ],
          "scattergl": [
           {
            "marker": {
             "colorbar": {
              "outlinewidth": 0,
              "ticks": ""
             }
            },
            "type": "scattergl"
           }
          ],
          "scattermapbox": [
           {
            "marker": {
             "colorbar": {
              "outlinewidth": 0,
              "ticks": ""
             }
            },
            "type": "scattermapbox"
           }
          ],
          "scatterpolar": [
           {
            "marker": {
             "colorbar": {
              "outlinewidth": 0,
              "ticks": ""
             }
            },
            "type": "scatterpolar"
           }
          ],
          "scatterpolargl": [
           {
            "marker": {
             "colorbar": {
              "outlinewidth": 0,
              "ticks": ""
             }
            },
            "type": "scatterpolargl"
           }
          ],
          "scatterternary": [
           {
            "marker": {
             "colorbar": {
              "outlinewidth": 0,
              "ticks": ""
             }
            },
            "type": "scatterternary"
           }
          ],
          "surface": [
           {
            "colorbar": {
             "outlinewidth": 0,
             "ticks": ""
            },
            "colorscale": [
             [
              0,
              "#0d0887"
             ],
             [
              0.1111111111111111,
              "#46039f"
             ],
             [
              0.2222222222222222,
              "#7201a8"
             ],
             [
              0.3333333333333333,
              "#9c179e"
             ],
             [
              0.4444444444444444,
              "#bd3786"
             ],
             [
              0.5555555555555556,
              "#d8576b"
             ],
             [
              0.6666666666666666,
              "#ed7953"
             ],
             [
              0.7777777777777778,
              "#fb9f3a"
             ],
             [
              0.8888888888888888,
              "#fdca26"
             ],
             [
              1,
              "#f0f921"
             ]
            ],
            "type": "surface"
           }
          ],
          "table": [
           {
            "cells": {
             "fill": {
              "color": "#EBF0F8"
             },
             "line": {
              "color": "white"
             }
            },
            "header": {
             "fill": {
              "color": "#C8D4E3"
             },
             "line": {
              "color": "white"
             }
            },
            "type": "table"
           }
          ]
         },
         "layout": {
          "annotationdefaults": {
           "arrowcolor": "#2a3f5f",
           "arrowhead": 0,
           "arrowwidth": 1
          },
          "autotypenumbers": "strict",
          "coloraxis": {
           "colorbar": {
            "outlinewidth": 0,
            "ticks": ""
           }
          },
          "colorscale": {
           "diverging": [
            [
             0,
             "#8e0152"
            ],
            [
             0.1,
             "#c51b7d"
            ],
            [
             0.2,
             "#de77ae"
            ],
            [
             0.3,
             "#f1b6da"
            ],
            [
             0.4,
             "#fde0ef"
            ],
            [
             0.5,
             "#f7f7f7"
            ],
            [
             0.6,
             "#e6f5d0"
            ],
            [
             0.7,
             "#b8e186"
            ],
            [
             0.8,
             "#7fbc41"
            ],
            [
             0.9,
             "#4d9221"
            ],
            [
             1,
             "#276419"
            ]
           ],
           "sequential": [
            [
             0,
             "#0d0887"
            ],
            [
             0.1111111111111111,
             "#46039f"
            ],
            [
             0.2222222222222222,
             "#7201a8"
            ],
            [
             0.3333333333333333,
             "#9c179e"
            ],
            [
             0.4444444444444444,
             "#bd3786"
            ],
            [
             0.5555555555555556,
             "#d8576b"
            ],
            [
             0.6666666666666666,
             "#ed7953"
            ],
            [
             0.7777777777777778,
             "#fb9f3a"
            ],
            [
             0.8888888888888888,
             "#fdca26"
            ],
            [
             1,
             "#f0f921"
            ]
           ],
           "sequentialminus": [
            [
             0,
             "#0d0887"
            ],
            [
             0.1111111111111111,
             "#46039f"
            ],
            [
             0.2222222222222222,
             "#7201a8"
            ],
            [
             0.3333333333333333,
             "#9c179e"
            ],
            [
             0.4444444444444444,
             "#bd3786"
            ],
            [
             0.5555555555555556,
             "#d8576b"
            ],
            [
             0.6666666666666666,
             "#ed7953"
            ],
            [
             0.7777777777777778,
             "#fb9f3a"
            ],
            [
             0.8888888888888888,
             "#fdca26"
            ],
            [
             1,
             "#f0f921"
            ]
           ]
          },
          "colorway": [
           "#636efa",
           "#EF553B",
           "#00cc96",
           "#ab63fa",
           "#FFA15A",
           "#19d3f3",
           "#FF6692",
           "#B6E880",
           "#FF97FF",
           "#FECB52"
          ],
          "font": {
           "color": "#2a3f5f"
          },
          "geo": {
           "bgcolor": "white",
           "lakecolor": "white",
           "landcolor": "#E5ECF6",
           "showlakes": true,
           "showland": true,
           "subunitcolor": "white"
          },
          "hoverlabel": {
           "align": "left"
          },
          "hovermode": "closest",
          "mapbox": {
           "style": "light"
          },
          "paper_bgcolor": "white",
          "plot_bgcolor": "#E5ECF6",
          "polar": {
           "angularaxis": {
            "gridcolor": "white",
            "linecolor": "white",
            "ticks": ""
           },
           "bgcolor": "#E5ECF6",
           "radialaxis": {
            "gridcolor": "white",
            "linecolor": "white",
            "ticks": ""
           }
          },
          "scene": {
           "xaxis": {
            "backgroundcolor": "#E5ECF6",
            "gridcolor": "white",
            "gridwidth": 2,
            "linecolor": "white",
            "showbackground": true,
            "ticks": "",
            "zerolinecolor": "white"
           },
           "yaxis": {
            "backgroundcolor": "#E5ECF6",
            "gridcolor": "white",
            "gridwidth": 2,
            "linecolor": "white",
            "showbackground": true,
            "ticks": "",
            "zerolinecolor": "white"
           },
           "zaxis": {
            "backgroundcolor": "#E5ECF6",
            "gridcolor": "white",
            "gridwidth": 2,
            "linecolor": "white",
            "showbackground": true,
            "ticks": "",
            "zerolinecolor": "white"
           }
          },
          "shapedefaults": {
           "line": {
            "color": "#2a3f5f"
           }
          },
          "ternary": {
           "aaxis": {
            "gridcolor": "white",
            "linecolor": "white",
            "ticks": ""
           },
           "baxis": {
            "gridcolor": "white",
            "linecolor": "white",
            "ticks": ""
           },
           "bgcolor": "#E5ECF6",
           "caxis": {
            "gridcolor": "white",
            "linecolor": "white",
            "ticks": ""
           }
          },
          "title": {
           "x": 0.05
          },
          "xaxis": {
           "automargin": true,
           "gridcolor": "white",
           "linecolor": "white",
           "ticks": "",
           "title": {
            "standoff": 15
           },
           "zerolinecolor": "white",
           "zerolinewidth": 2
          },
          "yaxis": {
           "automargin": true,
           "gridcolor": "white",
           "linecolor": "white",
           "ticks": "",
           "title": {
            "standoff": 15
           },
           "zerolinecolor": "white",
           "zerolinewidth": 2
          }
         }
        },
        "title": {
         "text": "GPU Memory Utilization"
        },
        "xaxis": {
         "anchor": "y",
         "domain": [
          0,
          1
         ],
         "title": {
          "text": "timestamp"
         }
        },
        "yaxis": {
         "anchor": "x",
         "domain": [
          0,
          1
         ],
         "title": {
          "text": "gpu_memory_utilization"
         }
        }
       }
      }
     },
     "metadata": {},
     "output_type": "display_data"
    }
   ],
   "source": [
    "#do the same for gpu_memory_utilization\n",
    "fig = px.line(df1, x='timestamp', y='gpu_memory_utilization', title='GPU Memory Utilization')\n",
    "fig.show()"
   ]
  },
  {
   "cell_type": "code",
   "execution_count": 25,
   "metadata": {},
   "outputs": [
    {
     "data": {
      "application/vnd.plotly.v1+json": {
       "config": {
        "plotlyServerURL": "https://plot.ly"
       },
       "data": [
        {
         "hovertemplate": "variable=gpu_memory_used<br>timestamp=%{x}<br>value=%{y}<extra></extra>",
         "legendgroup": "gpu_memory_used",
         "line": {
          "color": "#636efa",
          "dash": "solid"
         },
         "marker": {
          "symbol": "circle"
         },
         "mode": "lines",
         "name": "gpu_memory_used",
         "orientation": "v",
         "showlegend": true,
         "type": "scatter",
         "x": [
          "2023-06-22 18:56:56",
          "2023-06-22 18:56:57",
          "2023-06-22 18:56:58",
          "2023-06-22 18:56:59",
          "2023-06-22 18:57:00",
          "2023-06-22 18:57:01",
          "2023-06-22 18:57:02",
          "2023-06-22 18:57:03",
          "2023-06-22 18:57:04",
          "2023-06-22 18:57:05",
          "2023-06-22 18:57:06",
          "2023-06-22 18:57:07",
          "2023-06-22 18:57:08",
          "2023-06-22 18:57:09",
          "2023-06-22 18:57:10",
          "2023-06-22 18:57:11",
          "2023-06-22 18:57:12",
          "2023-06-22 18:57:13",
          "2023-06-22 18:57:14",
          "2023-06-22 18:57:15",
          "2023-06-22 18:57:16",
          "2023-06-22 18:57:17",
          "2023-06-22 18:57:18",
          "2023-06-22 18:57:19",
          "2023-06-22 18:57:20",
          "2023-06-22 18:57:21",
          "2023-06-22 18:57:23",
          "2023-06-22 18:57:24",
          "2023-06-22 18:57:25",
          "2023-06-22 18:57:26",
          "2023-06-22 18:57:27",
          "2023-06-22 18:57:28",
          "2023-06-22 18:57:29",
          "2023-06-22 18:57:30",
          "2023-06-22 18:57:31",
          "2023-06-22 18:57:32",
          "2023-06-22 18:57:33",
          "2023-06-22 18:57:34",
          "2023-06-22 18:57:35",
          "2023-06-22 18:57:36",
          "2023-06-22 18:57:37",
          "2023-06-22 18:57:38",
          "2023-06-22 18:57:39",
          "2023-06-22 18:57:40",
          "2023-06-22 18:57:41",
          "2023-06-22 18:57:42",
          "2023-06-22 18:57:43",
          "2023-06-22 18:57:44",
          "2023-06-22 18:57:45",
          "2023-06-22 18:57:46",
          "2023-06-22 18:57:47",
          "2023-06-22 18:57:48",
          "2023-06-22 18:57:49",
          "2023-06-22 18:57:50",
          "2023-06-22 18:57:51",
          "2023-06-22 18:57:52",
          "2023-06-22 18:57:53",
          "2023-06-22 18:57:54",
          "2023-06-22 18:57:55",
          "2023-06-22 18:57:56",
          "2023-06-22 18:57:57",
          "2023-06-22 18:57:58",
          "2023-06-22 18:57:59",
          "2023-06-22 18:58:00",
          "2023-06-22 18:58:01",
          "2023-06-22 18:58:02",
          "2023-06-22 18:58:03",
          "2023-06-22 18:58:04",
          "2023-06-22 18:58:05",
          "2023-06-22 18:58:06",
          "2023-06-22 18:58:07",
          "2023-06-22 18:58:08",
          "2023-06-22 18:58:09",
          "2023-06-22 18:58:10",
          "2023-06-22 18:58:11",
          "2023-06-22 18:58:13",
          "2023-06-22 18:58:14",
          "2023-06-22 18:58:15",
          "2023-06-22 18:58:16",
          "2023-06-22 18:58:17",
          "2023-06-22 18:58:18",
          "2023-06-22 18:58:19",
          "2023-06-22 18:58:20",
          "2023-06-22 18:58:21",
          "2023-06-22 18:58:22",
          "2023-06-22 18:58:23",
          "2023-06-22 18:58:24",
          "2023-06-22 18:58:25",
          "2023-06-22 18:58:26",
          "2023-06-22 18:58:27",
          "2023-06-22 18:58:28",
          "2023-06-22 18:58:29",
          "2023-06-22 18:58:30",
          "2023-06-22 18:58:31",
          "2023-06-22 18:58:32",
          "2023-06-22 18:58:33",
          "2023-06-22 18:58:34",
          "2023-06-22 18:58:35",
          "2023-06-22 18:58:36",
          "2023-06-22 18:58:37",
          "2023-06-22 18:58:38",
          "2023-06-22 18:58:39",
          "2023-06-22 18:58:40",
          "2023-06-22 18:58:41",
          "2023-06-22 18:58:42",
          "2023-06-22 18:58:43",
          "2023-06-22 18:58:44",
          "2023-06-22 18:58:45",
          "2023-06-22 18:58:47",
          "2023-06-22 18:58:48",
          "2023-06-22 18:58:49",
          "2023-06-22 18:58:50",
          "2023-06-22 18:58:51",
          "2023-06-22 18:58:52",
          "2023-06-22 18:58:53",
          "2023-06-22 18:58:54",
          "2023-06-22 18:58:55",
          "2023-06-22 18:58:56",
          "2023-06-22 18:58:57",
          "2023-06-22 18:58:58",
          "2023-06-22 18:58:59",
          "2023-06-22 18:59:00",
          "2023-06-22 18:59:01",
          "2023-06-22 18:59:02",
          "2023-06-22 18:59:03",
          "2023-06-22 18:59:04",
          "2023-06-22 18:59:05",
          "2023-06-22 18:59:06",
          "2023-06-22 18:59:07",
          "2023-06-22 18:59:08",
          "2023-06-22 18:59:09",
          "2023-06-22 18:59:10",
          "2023-06-22 18:59:11",
          "2023-06-22 18:59:12",
          "2023-06-22 18:59:13",
          "2023-06-22 18:59:14",
          "2023-06-22 18:59:15",
          "2023-06-22 18:59:16",
          "2023-06-22 18:59:17",
          "2023-06-22 18:59:18",
          "2023-06-22 18:59:19",
          "2023-06-22 18:59:20",
          "2023-06-22 18:59:21",
          "2023-06-22 18:59:23",
          "2023-06-22 18:59:24",
          "2023-06-22 18:59:25",
          "2023-06-22 18:59:26",
          "2023-06-22 18:59:27",
          "2023-06-22 18:59:28",
          "2023-06-22 18:59:29",
          "2023-06-22 18:59:30",
          "2023-06-22 18:59:31",
          "2023-06-22 18:59:32",
          "2023-06-22 18:59:33",
          "2023-06-22 18:59:34",
          "2023-06-22 18:59:35",
          "2023-06-22 18:59:36",
          "2023-06-22 18:59:37",
          "2023-06-22 18:59:38",
          "2023-06-22 18:59:39",
          "2023-06-22 18:59:40",
          "2023-06-22 18:59:41",
          "2023-06-22 18:59:42",
          "2023-06-22 18:59:43",
          "2023-06-22 18:59:44",
          "2023-06-22 18:59:45",
          "2023-06-22 18:59:46",
          "2023-06-22 18:59:47",
          "2023-06-22 18:59:48",
          "2023-06-22 18:59:49",
          "2023-06-22 18:59:50",
          "2023-06-22 18:59:51",
          "2023-06-22 18:59:52",
          "2023-06-22 18:59:53",
          "2023-06-22 18:59:54",
          "2023-06-22 18:59:55",
          "2023-06-22 18:59:56",
          "2023-06-22 18:59:58",
          "2023-06-22 18:59:59",
          "2023-06-22 19:00:00",
          "2023-06-22 19:00:01",
          "2023-06-22 19:00:02",
          "2023-06-22 19:00:03",
          "2023-06-22 19:00:04",
          "2023-06-22 19:00:05",
          "2023-06-22 19:00:06",
          "2023-06-22 19:00:07",
          "2023-06-22 19:00:08",
          "2023-06-22 19:00:09",
          "2023-06-22 19:00:10",
          "2023-06-22 19:00:11",
          "2023-06-22 19:00:12",
          "2023-06-22 19:00:13",
          "2023-06-22 19:00:14",
          "2023-06-22 19:00:15",
          "2023-06-22 19:00:16",
          "2023-06-22 19:00:17",
          "2023-06-22 19:00:18",
          "2023-06-22 19:00:19",
          "2023-06-22 19:00:20",
          "2023-06-22 19:00:21",
          "2023-06-22 19:00:22",
          "2023-06-22 19:00:23",
          "2023-06-22 19:00:24",
          "2023-06-22 19:00:25",
          "2023-06-22 19:00:26",
          "2023-06-22 19:00:27",
          "2023-06-22 19:00:28",
          "2023-06-22 19:00:29",
          "2023-06-22 19:00:30",
          "2023-06-22 19:00:31",
          "2023-06-22 19:00:32",
          "2023-06-22 19:00:33",
          "2023-06-22 19:00:34",
          "2023-06-22 19:00:35",
          "2023-06-22 19:00:36",
          "2023-06-22 19:00:37",
          "2023-06-22 19:00:38",
          "2023-06-22 19:00:39",
          "2023-06-22 19:00:40",
          "2023-06-22 19:00:41",
          "2023-06-22 19:00:42",
          "2023-06-22 19:00:43",
          "2023-06-22 19:00:45"
         ],
         "xaxis": "x",
         "y": [
          841,
          869,
          865,
          865,
          865,
          865,
          817,
          826,
          819,
          856,
          890,
          850,
          850,
          852,
          847,
          821,
          821,
          819,
          819,
          827,
          820,
          820,
          820,
          826,
          833,
          836,
          837,
          837,
          840,
          831,
          876,
          830,
          825,
          832,
          812,
          813,
          805,
          805,
          770,
          770,
          765,
          754,
          752,
          752,
          752,
          752,
          557,
          563,
          563,
          619,
          580,
          580,
          612,
          634,
          641,
          659,
          650,
          650,
          650,
          650,
          646,
          609,
          609,
          609,
          609,
          609,
          605,
          605,
          605,
          605,
          605,
          601,
          613,
          613,
          613,
          613,
          611,
          632,
          632,
          634,
          632,
          634,
          625,
          625,
          625,
          625,
          609,
          606,
          606,
          606,
          604,
          604,
          632,
          632,
          632,
          623,
          632,
          632,
          632,
          632,
          623,
          621,
          621,
          604,
          604,
          604,
          604,
          604,
          604,
          604,
          604,
          604,
          604,
          604,
          604,
          604,
          604,
          604,
          604,
          604,
          604,
          612,
          612,
          612,
          603,
          603,
          571,
          571,
          571,
          571,
          571,
          571,
          571,
          571,
          571,
          571,
          572,
          573,
          569,
          569,
          569,
          568,
          568,
          566,
          566,
          566,
          566,
          566,
          566,
          566,
          566,
          594,
          594,
          584,
          584,
          584,
          568,
          568,
          568,
          568,
          568,
          568,
          568,
          568,
          568,
          568,
          568,
          568,
          568,
          568,
          568,
          568,
          568,
          568,
          568,
          568,
          568,
          568,
          568,
          594,
          594,
          594,
          594,
          629,
          630,
          627,
          675,
          671,
          662,
          658,
          647,
          627,
          601,
          597,
          597,
          597,
          598,
          598,
          596,
          596,
          591,
          588,
          588,
          587,
          587,
          587,
          587,
          587,
          587,
          587,
          587,
          586,
          586,
          586,
          594,
          594,
          594,
          594,
          594,
          581,
          584,
          603,
          600,
          604
         ],
         "yaxis": "y"
        },
        {
         "hovertemplate": "variable=gpu_memory_free<br>timestamp=%{x}<br>value=%{y}<extra></extra>",
         "legendgroup": "gpu_memory_free",
         "line": {
          "color": "#EF553B",
          "dash": "solid"
         },
         "marker": {
          "symbol": "circle"
         },
         "mode": "lines",
         "name": "gpu_memory_free",
         "orientation": "v",
         "showlegend": true,
         "type": "scatter",
         "x": [
          "2023-06-22 18:56:56",
          "2023-06-22 18:56:57",
          "2023-06-22 18:56:58",
          "2023-06-22 18:56:59",
          "2023-06-22 18:57:00",
          "2023-06-22 18:57:01",
          "2023-06-22 18:57:02",
          "2023-06-22 18:57:03",
          "2023-06-22 18:57:04",
          "2023-06-22 18:57:05",
          "2023-06-22 18:57:06",
          "2023-06-22 18:57:07",
          "2023-06-22 18:57:08",
          "2023-06-22 18:57:09",
          "2023-06-22 18:57:10",
          "2023-06-22 18:57:11",
          "2023-06-22 18:57:12",
          "2023-06-22 18:57:13",
          "2023-06-22 18:57:14",
          "2023-06-22 18:57:15",
          "2023-06-22 18:57:16",
          "2023-06-22 18:57:17",
          "2023-06-22 18:57:18",
          "2023-06-22 18:57:19",
          "2023-06-22 18:57:20",
          "2023-06-22 18:57:21",
          "2023-06-22 18:57:23",
          "2023-06-22 18:57:24",
          "2023-06-22 18:57:25",
          "2023-06-22 18:57:26",
          "2023-06-22 18:57:27",
          "2023-06-22 18:57:28",
          "2023-06-22 18:57:29",
          "2023-06-22 18:57:30",
          "2023-06-22 18:57:31",
          "2023-06-22 18:57:32",
          "2023-06-22 18:57:33",
          "2023-06-22 18:57:34",
          "2023-06-22 18:57:35",
          "2023-06-22 18:57:36",
          "2023-06-22 18:57:37",
          "2023-06-22 18:57:38",
          "2023-06-22 18:57:39",
          "2023-06-22 18:57:40",
          "2023-06-22 18:57:41",
          "2023-06-22 18:57:42",
          "2023-06-22 18:57:43",
          "2023-06-22 18:57:44",
          "2023-06-22 18:57:45",
          "2023-06-22 18:57:46",
          "2023-06-22 18:57:47",
          "2023-06-22 18:57:48",
          "2023-06-22 18:57:49",
          "2023-06-22 18:57:50",
          "2023-06-22 18:57:51",
          "2023-06-22 18:57:52",
          "2023-06-22 18:57:53",
          "2023-06-22 18:57:54",
          "2023-06-22 18:57:55",
          "2023-06-22 18:57:56",
          "2023-06-22 18:57:57",
          "2023-06-22 18:57:58",
          "2023-06-22 18:57:59",
          "2023-06-22 18:58:00",
          "2023-06-22 18:58:01",
          "2023-06-22 18:58:02",
          "2023-06-22 18:58:03",
          "2023-06-22 18:58:04",
          "2023-06-22 18:58:05",
          "2023-06-22 18:58:06",
          "2023-06-22 18:58:07",
          "2023-06-22 18:58:08",
          "2023-06-22 18:58:09",
          "2023-06-22 18:58:10",
          "2023-06-22 18:58:11",
          "2023-06-22 18:58:13",
          "2023-06-22 18:58:14",
          "2023-06-22 18:58:15",
          "2023-06-22 18:58:16",
          "2023-06-22 18:58:17",
          "2023-06-22 18:58:18",
          "2023-06-22 18:58:19",
          "2023-06-22 18:58:20",
          "2023-06-22 18:58:21",
          "2023-06-22 18:58:22",
          "2023-06-22 18:58:23",
          "2023-06-22 18:58:24",
          "2023-06-22 18:58:25",
          "2023-06-22 18:58:26",
          "2023-06-22 18:58:27",
          "2023-06-22 18:58:28",
          "2023-06-22 18:58:29",
          "2023-06-22 18:58:30",
          "2023-06-22 18:58:31",
          "2023-06-22 18:58:32",
          "2023-06-22 18:58:33",
          "2023-06-22 18:58:34",
          "2023-06-22 18:58:35",
          "2023-06-22 18:58:36",
          "2023-06-22 18:58:37",
          "2023-06-22 18:58:38",
          "2023-06-22 18:58:39",
          "2023-06-22 18:58:40",
          "2023-06-22 18:58:41",
          "2023-06-22 18:58:42",
          "2023-06-22 18:58:43",
          "2023-06-22 18:58:44",
          "2023-06-22 18:58:45",
          "2023-06-22 18:58:47",
          "2023-06-22 18:58:48",
          "2023-06-22 18:58:49",
          "2023-06-22 18:58:50",
          "2023-06-22 18:58:51",
          "2023-06-22 18:58:52",
          "2023-06-22 18:58:53",
          "2023-06-22 18:58:54",
          "2023-06-22 18:58:55",
          "2023-06-22 18:58:56",
          "2023-06-22 18:58:57",
          "2023-06-22 18:58:58",
          "2023-06-22 18:58:59",
          "2023-06-22 18:59:00",
          "2023-06-22 18:59:01",
          "2023-06-22 18:59:02",
          "2023-06-22 18:59:03",
          "2023-06-22 18:59:04",
          "2023-06-22 18:59:05",
          "2023-06-22 18:59:06",
          "2023-06-22 18:59:07",
          "2023-06-22 18:59:08",
          "2023-06-22 18:59:09",
          "2023-06-22 18:59:10",
          "2023-06-22 18:59:11",
          "2023-06-22 18:59:12",
          "2023-06-22 18:59:13",
          "2023-06-22 18:59:14",
          "2023-06-22 18:59:15",
          "2023-06-22 18:59:16",
          "2023-06-22 18:59:17",
          "2023-06-22 18:59:18",
          "2023-06-22 18:59:19",
          "2023-06-22 18:59:20",
          "2023-06-22 18:59:21",
          "2023-06-22 18:59:23",
          "2023-06-22 18:59:24",
          "2023-06-22 18:59:25",
          "2023-06-22 18:59:26",
          "2023-06-22 18:59:27",
          "2023-06-22 18:59:28",
          "2023-06-22 18:59:29",
          "2023-06-22 18:59:30",
          "2023-06-22 18:59:31",
          "2023-06-22 18:59:32",
          "2023-06-22 18:59:33",
          "2023-06-22 18:59:34",
          "2023-06-22 18:59:35",
          "2023-06-22 18:59:36",
          "2023-06-22 18:59:37",
          "2023-06-22 18:59:38",
          "2023-06-22 18:59:39",
          "2023-06-22 18:59:40",
          "2023-06-22 18:59:41",
          "2023-06-22 18:59:42",
          "2023-06-22 18:59:43",
          "2023-06-22 18:59:44",
          "2023-06-22 18:59:45",
          "2023-06-22 18:59:46",
          "2023-06-22 18:59:47",
          "2023-06-22 18:59:48",
          "2023-06-22 18:59:49",
          "2023-06-22 18:59:50",
          "2023-06-22 18:59:51",
          "2023-06-22 18:59:52",
          "2023-06-22 18:59:53",
          "2023-06-22 18:59:54",
          "2023-06-22 18:59:55",
          "2023-06-22 18:59:56",
          "2023-06-22 18:59:58",
          "2023-06-22 18:59:59",
          "2023-06-22 19:00:00",
          "2023-06-22 19:00:01",
          "2023-06-22 19:00:02",
          "2023-06-22 19:00:03",
          "2023-06-22 19:00:04",
          "2023-06-22 19:00:05",
          "2023-06-22 19:00:06",
          "2023-06-22 19:00:07",
          "2023-06-22 19:00:08",
          "2023-06-22 19:00:09",
          "2023-06-22 19:00:10",
          "2023-06-22 19:00:11",
          "2023-06-22 19:00:12",
          "2023-06-22 19:00:13",
          "2023-06-22 19:00:14",
          "2023-06-22 19:00:15",
          "2023-06-22 19:00:16",
          "2023-06-22 19:00:17",
          "2023-06-22 19:00:18",
          "2023-06-22 19:00:19",
          "2023-06-22 19:00:20",
          "2023-06-22 19:00:21",
          "2023-06-22 19:00:22",
          "2023-06-22 19:00:23",
          "2023-06-22 19:00:24",
          "2023-06-22 19:00:25",
          "2023-06-22 19:00:26",
          "2023-06-22 19:00:27",
          "2023-06-22 19:00:28",
          "2023-06-22 19:00:29",
          "2023-06-22 19:00:30",
          "2023-06-22 19:00:31",
          "2023-06-22 19:00:32",
          "2023-06-22 19:00:33",
          "2023-06-22 19:00:34",
          "2023-06-22 19:00:35",
          "2023-06-22 19:00:36",
          "2023-06-22 19:00:37",
          "2023-06-22 19:00:38",
          "2023-06-22 19:00:39",
          "2023-06-22 19:00:40",
          "2023-06-22 19:00:41",
          "2023-06-22 19:00:42",
          "2023-06-22 19:00:43",
          "2023-06-22 19:00:45"
         ],
         "xaxis": "x",
         "y": [
          7140,
          7112,
          7116,
          7116,
          7116,
          7116,
          7165,
          7156,
          7162,
          7126,
          7091,
          7132,
          7132,
          7130,
          7135,
          7160,
          7161,
          7163,
          7162,
          7155,
          7162,
          7162,
          7162,
          7155,
          7148,
          7145,
          7144,
          7144,
          7141,
          7151,
          7106,
          7152,
          7156,
          7149,
          7169,
          7168,
          7176,
          7177,
          7211,
          7212,
          7217,
          7227,
          7229,
          7229,
          7229,
          7230,
          7425,
          7419,
          7419,
          7363,
          7402,
          7402,
          7370,
          7348,
          7341,
          7323,
          7331,
          7331,
          7331,
          7331,
          7335,
          7372,
          7372,
          7373,
          7373,
          7373,
          7377,
          7377,
          7377,
          7376,
          7376,
          7380,
          7368,
          7368,
          7369,
          7369,
          7371,
          7349,
          7349,
          7347,
          7349,
          7347,
          7357,
          7357,
          7357,
          7357,
          7373,
          7375,
          7375,
          7375,
          7377,
          7377,
          7350,
          7349,
          7349,
          7359,
          7349,
          7350,
          7349,
          7349,
          7359,
          7361,
          7361,
          7377,
          7377,
          7377,
          7377,
          7377,
          7377,
          7377,
          7377,
          7377,
          7377,
          7377,
          7377,
          7377,
          7377,
          7377,
          7377,
          7377,
          7377,
          7369,
          7369,
          7369,
          7379,
          7379,
          7411,
          7411,
          7411,
          7411,
          7411,
          7411,
          7411,
          7411,
          7411,
          7411,
          7409,
          7409,
          7413,
          7413,
          7413,
          7413,
          7413,
          7415,
          7415,
          7415,
          7415,
          7415,
          7415,
          7415,
          7415,
          7388,
          7388,
          7397,
          7397,
          7397,
          7413,
          7413,
          7413,
          7413,
          7413,
          7413,
          7413,
          7413,
          7413,
          7413,
          7413,
          7413,
          7413,
          7413,
          7413,
          7413,
          7413,
          7413,
          7413,
          7413,
          7413,
          7413,
          7413,
          7388,
          7388,
          7388,
          7388,
          7352,
          7352,
          7354,
          7306,
          7311,
          7319,
          7323,
          7334,
          7355,
          7381,
          7385,
          7385,
          7385,
          7383,
          7383,
          7386,
          7386,
          7391,
          7394,
          7394,
          7394,
          7394,
          7394,
          7394,
          7395,
          7395,
          7395,
          7395,
          7395,
          7395,
          7395,
          7387,
          7387,
          7387,
          7387,
          7387,
          7400,
          7398,
          7378,
          7382,
          7378
         ],
         "yaxis": "y"
        }
       ],
       "layout": {
        "legend": {
         "title": {
          "text": "variable"
         },
         "tracegroupgap": 0
        },
        "template": {
         "data": {
          "bar": [
           {
            "error_x": {
             "color": "#2a3f5f"
            },
            "error_y": {
             "color": "#2a3f5f"
            },
            "marker": {
             "line": {
              "color": "#E5ECF6",
              "width": 0.5
             },
             "pattern": {
              "fillmode": "overlay",
              "size": 10,
              "solidity": 0.2
             }
            },
            "type": "bar"
           }
          ],
          "barpolar": [
           {
            "marker": {
             "line": {
              "color": "#E5ECF6",
              "width": 0.5
             },
             "pattern": {
              "fillmode": "overlay",
              "size": 10,
              "solidity": 0.2
             }
            },
            "type": "barpolar"
           }
          ],
          "carpet": [
           {
            "aaxis": {
             "endlinecolor": "#2a3f5f",
             "gridcolor": "white",
             "linecolor": "white",
             "minorgridcolor": "white",
             "startlinecolor": "#2a3f5f"
            },
            "baxis": {
             "endlinecolor": "#2a3f5f",
             "gridcolor": "white",
             "linecolor": "white",
             "minorgridcolor": "white",
             "startlinecolor": "#2a3f5f"
            },
            "type": "carpet"
           }
          ],
          "choropleth": [
           {
            "colorbar": {
             "outlinewidth": 0,
             "ticks": ""
            },
            "type": "choropleth"
           }
          ],
          "contour": [
           {
            "colorbar": {
             "outlinewidth": 0,
             "ticks": ""
            },
            "colorscale": [
             [
              0,
              "#0d0887"
             ],
             [
              0.1111111111111111,
              "#46039f"
             ],
             [
              0.2222222222222222,
              "#7201a8"
             ],
             [
              0.3333333333333333,
              "#9c179e"
             ],
             [
              0.4444444444444444,
              "#bd3786"
             ],
             [
              0.5555555555555556,
              "#d8576b"
             ],
             [
              0.6666666666666666,
              "#ed7953"
             ],
             [
              0.7777777777777778,
              "#fb9f3a"
             ],
             [
              0.8888888888888888,
              "#fdca26"
             ],
             [
              1,
              "#f0f921"
             ]
            ],
            "type": "contour"
           }
          ],
          "contourcarpet": [
           {
            "colorbar": {
             "outlinewidth": 0,
             "ticks": ""
            },
            "type": "contourcarpet"
           }
          ],
          "heatmap": [
           {
            "colorbar": {
             "outlinewidth": 0,
             "ticks": ""
            },
            "colorscale": [
             [
              0,
              "#0d0887"
             ],
             [
              0.1111111111111111,
              "#46039f"
             ],
             [
              0.2222222222222222,
              "#7201a8"
             ],
             [
              0.3333333333333333,
              "#9c179e"
             ],
             [
              0.4444444444444444,
              "#bd3786"
             ],
             [
              0.5555555555555556,
              "#d8576b"
             ],
             [
              0.6666666666666666,
              "#ed7953"
             ],
             [
              0.7777777777777778,
              "#fb9f3a"
             ],
             [
              0.8888888888888888,
              "#fdca26"
             ],
             [
              1,
              "#f0f921"
             ]
            ],
            "type": "heatmap"
           }
          ],
          "heatmapgl": [
           {
            "colorbar": {
             "outlinewidth": 0,
             "ticks": ""
            },
            "colorscale": [
             [
              0,
              "#0d0887"
             ],
             [
              0.1111111111111111,
              "#46039f"
             ],
             [
              0.2222222222222222,
              "#7201a8"
             ],
             [
              0.3333333333333333,
              "#9c179e"
             ],
             [
              0.4444444444444444,
              "#bd3786"
             ],
             [
              0.5555555555555556,
              "#d8576b"
             ],
             [
              0.6666666666666666,
              "#ed7953"
             ],
             [
              0.7777777777777778,
              "#fb9f3a"
             ],
             [
              0.8888888888888888,
              "#fdca26"
             ],
             [
              1,
              "#f0f921"
             ]
            ],
            "type": "heatmapgl"
           }
          ],
          "histogram": [
           {
            "marker": {
             "pattern": {
              "fillmode": "overlay",
              "size": 10,
              "solidity": 0.2
             }
            },
            "type": "histogram"
           }
          ],
          "histogram2d": [
           {
            "colorbar": {
             "outlinewidth": 0,
             "ticks": ""
            },
            "colorscale": [
             [
              0,
              "#0d0887"
             ],
             [
              0.1111111111111111,
              "#46039f"
             ],
             [
              0.2222222222222222,
              "#7201a8"
             ],
             [
              0.3333333333333333,
              "#9c179e"
             ],
             [
              0.4444444444444444,
              "#bd3786"
             ],
             [
              0.5555555555555556,
              "#d8576b"
             ],
             [
              0.6666666666666666,
              "#ed7953"
             ],
             [
              0.7777777777777778,
              "#fb9f3a"
             ],
             [
              0.8888888888888888,
              "#fdca26"
             ],
             [
              1,
              "#f0f921"
             ]
            ],
            "type": "histogram2d"
           }
          ],
          "histogram2dcontour": [
           {
            "colorbar": {
             "outlinewidth": 0,
             "ticks": ""
            },
            "colorscale": [
             [
              0,
              "#0d0887"
             ],
             [
              0.1111111111111111,
              "#46039f"
             ],
             [
              0.2222222222222222,
              "#7201a8"
             ],
             [
              0.3333333333333333,
              "#9c179e"
             ],
             [
              0.4444444444444444,
              "#bd3786"
             ],
             [
              0.5555555555555556,
              "#d8576b"
             ],
             [
              0.6666666666666666,
              "#ed7953"
             ],
             [
              0.7777777777777778,
              "#fb9f3a"
             ],
             [
              0.8888888888888888,
              "#fdca26"
             ],
             [
              1,
              "#f0f921"
             ]
            ],
            "type": "histogram2dcontour"
           }
          ],
          "mesh3d": [
           {
            "colorbar": {
             "outlinewidth": 0,
             "ticks": ""
            },
            "type": "mesh3d"
           }
          ],
          "parcoords": [
           {
            "line": {
             "colorbar": {
              "outlinewidth": 0,
              "ticks": ""
             }
            },
            "type": "parcoords"
           }
          ],
          "pie": [
           {
            "automargin": true,
            "type": "pie"
           }
          ],
          "scatter": [
           {
            "fillpattern": {
             "fillmode": "overlay",
             "size": 10,
             "solidity": 0.2
            },
            "type": "scatter"
           }
          ],
          "scatter3d": [
           {
            "line": {
             "colorbar": {
              "outlinewidth": 0,
              "ticks": ""
             }
            },
            "marker": {
             "colorbar": {
              "outlinewidth": 0,
              "ticks": ""
             }
            },
            "type": "scatter3d"
           }
          ],
          "scattercarpet": [
           {
            "marker": {
             "colorbar": {
              "outlinewidth": 0,
              "ticks": ""
             }
            },
            "type": "scattercarpet"
           }
          ],
          "scattergeo": [
           {
            "marker": {
             "colorbar": {
              "outlinewidth": 0,
              "ticks": ""
             }
            },
            "type": "scattergeo"
           }
          ],
          "scattergl": [
           {
            "marker": {
             "colorbar": {
              "outlinewidth": 0,
              "ticks": ""
             }
            },
            "type": "scattergl"
           }
          ],
          "scattermapbox": [
           {
            "marker": {
             "colorbar": {
              "outlinewidth": 0,
              "ticks": ""
             }
            },
            "type": "scattermapbox"
           }
          ],
          "scatterpolar": [
           {
            "marker": {
             "colorbar": {
              "outlinewidth": 0,
              "ticks": ""
             }
            },
            "type": "scatterpolar"
           }
          ],
          "scatterpolargl": [
           {
            "marker": {
             "colorbar": {
              "outlinewidth": 0,
              "ticks": ""
             }
            },
            "type": "scatterpolargl"
           }
          ],
          "scatterternary": [
           {
            "marker": {
             "colorbar": {
              "outlinewidth": 0,
              "ticks": ""
             }
            },
            "type": "scatterternary"
           }
          ],
          "surface": [
           {
            "colorbar": {
             "outlinewidth": 0,
             "ticks": ""
            },
            "colorscale": [
             [
              0,
              "#0d0887"
             ],
             [
              0.1111111111111111,
              "#46039f"
             ],
             [
              0.2222222222222222,
              "#7201a8"
             ],
             [
              0.3333333333333333,
              "#9c179e"
             ],
             [
              0.4444444444444444,
              "#bd3786"
             ],
             [
              0.5555555555555556,
              "#d8576b"
             ],
             [
              0.6666666666666666,
              "#ed7953"
             ],
             [
              0.7777777777777778,
              "#fb9f3a"
             ],
             [
              0.8888888888888888,
              "#fdca26"
             ],
             [
              1,
              "#f0f921"
             ]
            ],
            "type": "surface"
           }
          ],
          "table": [
           {
            "cells": {
             "fill": {
              "color": "#EBF0F8"
             },
             "line": {
              "color": "white"
             }
            },
            "header": {
             "fill": {
              "color": "#C8D4E3"
             },
             "line": {
              "color": "white"
             }
            },
            "type": "table"
           }
          ]
         },
         "layout": {
          "annotationdefaults": {
           "arrowcolor": "#2a3f5f",
           "arrowhead": 0,
           "arrowwidth": 1
          },
          "autotypenumbers": "strict",
          "coloraxis": {
           "colorbar": {
            "outlinewidth": 0,
            "ticks": ""
           }
          },
          "colorscale": {
           "diverging": [
            [
             0,
             "#8e0152"
            ],
            [
             0.1,
             "#c51b7d"
            ],
            [
             0.2,
             "#de77ae"
            ],
            [
             0.3,
             "#f1b6da"
            ],
            [
             0.4,
             "#fde0ef"
            ],
            [
             0.5,
             "#f7f7f7"
            ],
            [
             0.6,
             "#e6f5d0"
            ],
            [
             0.7,
             "#b8e186"
            ],
            [
             0.8,
             "#7fbc41"
            ],
            [
             0.9,
             "#4d9221"
            ],
            [
             1,
             "#276419"
            ]
           ],
           "sequential": [
            [
             0,
             "#0d0887"
            ],
            [
             0.1111111111111111,
             "#46039f"
            ],
            [
             0.2222222222222222,
             "#7201a8"
            ],
            [
             0.3333333333333333,
             "#9c179e"
            ],
            [
             0.4444444444444444,
             "#bd3786"
            ],
            [
             0.5555555555555556,
             "#d8576b"
            ],
            [
             0.6666666666666666,
             "#ed7953"
            ],
            [
             0.7777777777777778,
             "#fb9f3a"
            ],
            [
             0.8888888888888888,
             "#fdca26"
            ],
            [
             1,
             "#f0f921"
            ]
           ],
           "sequentialminus": [
            [
             0,
             "#0d0887"
            ],
            [
             0.1111111111111111,
             "#46039f"
            ],
            [
             0.2222222222222222,
             "#7201a8"
            ],
            [
             0.3333333333333333,
             "#9c179e"
            ],
            [
             0.4444444444444444,
             "#bd3786"
            ],
            [
             0.5555555555555556,
             "#d8576b"
            ],
            [
             0.6666666666666666,
             "#ed7953"
            ],
            [
             0.7777777777777778,
             "#fb9f3a"
            ],
            [
             0.8888888888888888,
             "#fdca26"
            ],
            [
             1,
             "#f0f921"
            ]
           ]
          },
          "colorway": [
           "#636efa",
           "#EF553B",
           "#00cc96",
           "#ab63fa",
           "#FFA15A",
           "#19d3f3",
           "#FF6692",
           "#B6E880",
           "#FF97FF",
           "#FECB52"
          ],
          "font": {
           "color": "#2a3f5f"
          },
          "geo": {
           "bgcolor": "white",
           "lakecolor": "white",
           "landcolor": "#E5ECF6",
           "showlakes": true,
           "showland": true,
           "subunitcolor": "white"
          },
          "hoverlabel": {
           "align": "left"
          },
          "hovermode": "closest",
          "mapbox": {
           "style": "light"
          },
          "paper_bgcolor": "white",
          "plot_bgcolor": "#E5ECF6",
          "polar": {
           "angularaxis": {
            "gridcolor": "white",
            "linecolor": "white",
            "ticks": ""
           },
           "bgcolor": "#E5ECF6",
           "radialaxis": {
            "gridcolor": "white",
            "linecolor": "white",
            "ticks": ""
           }
          },
          "scene": {
           "xaxis": {
            "backgroundcolor": "#E5ECF6",
            "gridcolor": "white",
            "gridwidth": 2,
            "linecolor": "white",
            "showbackground": true,
            "ticks": "",
            "zerolinecolor": "white"
           },
           "yaxis": {
            "backgroundcolor": "#E5ECF6",
            "gridcolor": "white",
            "gridwidth": 2,
            "linecolor": "white",
            "showbackground": true,
            "ticks": "",
            "zerolinecolor": "white"
           },
           "zaxis": {
            "backgroundcolor": "#E5ECF6",
            "gridcolor": "white",
            "gridwidth": 2,
            "linecolor": "white",
            "showbackground": true,
            "ticks": "",
            "zerolinecolor": "white"
           }
          },
          "shapedefaults": {
           "line": {
            "color": "#2a3f5f"
           }
          },
          "ternary": {
           "aaxis": {
            "gridcolor": "white",
            "linecolor": "white",
            "ticks": ""
           },
           "baxis": {
            "gridcolor": "white",
            "linecolor": "white",
            "ticks": ""
           },
           "bgcolor": "#E5ECF6",
           "caxis": {
            "gridcolor": "white",
            "linecolor": "white",
            "ticks": ""
           }
          },
          "title": {
           "x": 0.05
          },
          "xaxis": {
           "automargin": true,
           "gridcolor": "white",
           "linecolor": "white",
           "ticks": "",
           "title": {
            "standoff": 15
           },
           "zerolinecolor": "white",
           "zerolinewidth": 2
          },
          "yaxis": {
           "automargin": true,
           "gridcolor": "white",
           "linecolor": "white",
           "ticks": "",
           "title": {
            "standoff": 15
           },
           "zerolinecolor": "white",
           "zerolinewidth": 2
          }
         }
        },
        "title": {
         "text": "GPU Memory"
        },
        "xaxis": {
         "anchor": "y",
         "domain": [
          0,
          1
         ],
         "title": {
          "text": "timestamp"
         }
        },
        "yaxis": {
         "anchor": "x",
         "domain": [
          0,
          1
         ],
         "title": {
          "text": "value"
         }
        }
       }
      }
     },
     "metadata": {},
     "output_type": "display_data"
    }
   ],
   "source": [
    "#do the same for gpu_memory_used, gpu_memory_free,show them in the same graph\n",
    "fig = px.line(df1, x='timestamp', y=['gpu_memory_used', 'gpu_memory_free'], title='GPU Memory')\n",
    "fig.show()"
   ]
  },
  {
   "cell_type": "code",
   "execution_count": null,
   "metadata": {},
   "outputs": [],
   "source": [
    "#create a streamlit app to display the above graphs\n"
   ]
  }
 ],
 "metadata": {
  "kernelspec": {
   "display_name": "tf2_12",
   "language": "python",
   "name": "python3"
  },
  "language_info": {
   "codemirror_mode": {
    "name": "ipython",
    "version": 3
   },
   "file_extension": ".py",
   "mimetype": "text/x-python",
   "name": "python",
   "nbconvert_exporter": "python",
   "pygments_lexer": "ipython3",
   "version": "3.10.11"
  },
  "orig_nbformat": 4
 },
 "nbformat": 4,
 "nbformat_minor": 2
}
